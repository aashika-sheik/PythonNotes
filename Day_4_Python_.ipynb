{
  "nbformat": 4,
  "nbformat_minor": 0,
  "metadata": {
    "colab": {
      "provenance": []
    },
    "kernelspec": {
      "name": "python3",
      "display_name": "Python 3"
    },
    "language_info": {
      "name": "python"
    }
  },
  "cells": [
    {
      "cell_type": "markdown",
      "source": [
        "**Day 4: Data Structures (Lists, Tuples, Sets, Dictionaries)**\n",
        "\n",
        "**Introduction:**\n",
        "\n",
        "Data structures are essential for efficient data storage and manipulation. Using the right structure can optimize time complexity and memory usage, critical for large-scale problems. Python offers four primary built-in structures: lists, tuples, sets, and dictionaries.\n",
        "\n",
        "Understanding their properties, time complexities, and methods is important for problem-solving in tech interviews."
      ],
      "metadata": {
        "id": "c1U-I06AWUr_"
      }
    },
    {
      "cell_type": "markdown",
      "source": [
        "**1. Lists**\n",
        "\n",
        "Definition: Ordered, mutable collection of elements.\n",
        "\n",
        "Properties:\n",
        "\n",
        "Indexed (access by position)\n",
        "\n",
        "Mutable (can modify elements)\n",
        "\n",
        "Allows duplicates\n",
        "\n"
      ],
      "metadata": {
        "id": "-VTbI0WQWkmF"
      }
    },
    {
      "cell_type": "code",
      "execution_count": null,
      "metadata": {
        "colab": {
          "base_uri": "https://localhost:8080/"
        },
        "id": "W4UbGpD4Ti6l",
        "outputId": "81801b48-faf3-4375-c8ef-118ff02e2363"
      },
      "outputs": [
        {
          "output_type": "stream",
          "name": "stdout",
          "text": [
            "['apple', 'mango', 'cherry', 'orange']\n",
            "Second largest number is 12\n"
          ]
        }
      ],
      "source": [
        "# Example 1: Basic Operations\n",
        "fruits = [\"apple\", \"banana\", \"cherry\"]\n",
        "fruits.append(\"orange\")\n",
        "fruits.insert(1, \"mango\")\n",
        "fruits.remove(\"banana\")\n",
        "print(fruits)  # ['apple', 'mango', 'cherry', 'orange']\n",
        "\n",
        "# Example 2: Second largest number without sorting\n",
        "numbers = [5, 12, 7, 9, 20]\n",
        "largest = second = float('-inf')\n",
        "for n in numbers:\n",
        "    if n > largest:\n",
        "        second = largest\n",
        "        largest = n\n",
        "    elif n > second and n != largest:\n",
        "        second = n\n",
        "print(f\"Second largest number is {second}\")\n"
      ]
    },
    {
      "cell_type": "markdown",
      "source": [
        "**Tasks:**\n",
        "\n",
        "Reverse a list without using slicing.\n",
        "\n",
        "Find all pairs of numbers whose sum is divisible by 3.\n",
        "\n",
        "Flatten a nested list (e.g., [1, [2,3], [4,[5]]] → [1,2,3,4,5])."
      ],
      "metadata": {
        "id": "6HqFClg6WpKt"
      }
    },
    {
      "cell_type": "code",
      "source": [
        "#Reverse a list without using slicing.\n",
        "def slicing (user_list):\n",
        "  temp = []\n",
        "  for i in range (len(user_list)-1, -1, -1):\n",
        "    temp.append(user_list[i])\n",
        "  print(temp)\n",
        "\n",
        "user_list = list(map(int,input(\"Enter the list for sorting : \").split()))\n",
        "slicing(user_list)\n",
        "\n"
      ],
      "metadata": {
        "colab": {
          "base_uri": "https://localhost:8080/"
        },
        "id": "n2VgtA2cWyNW",
        "outputId": "328360a2-0faf-484e-ded8-c6b0437dba98"
      },
      "execution_count": null,
      "outputs": [
        {
          "output_type": "stream",
          "name": "stdout",
          "text": [
            "Enter the list for sorting : 1 2 3 4 \n",
            "[4, 3, 2, 1]\n"
          ]
        }
      ]
    },
    {
      "cell_type": "code",
      "source": [
        "#Find all pairs of numbers whose sum is divisible by 3.\n",
        "def sd (lst):\n",
        "  for  i in range (len(lst)):\n",
        "    for j in range (i+1,len(lst)):\n",
        "      if((lst[i]+lst[j])%3==0):\n",
        "        print(lst[i],lst[j])\n",
        "lst = list(map(int,input(\"Enter the list : \").split()))\n",
        "sd (lst)\n",
        "\n"
      ],
      "metadata": {
        "colab": {
          "base_uri": "https://localhost:8080/"
        },
        "id": "iW9CxfcuWyE-",
        "outputId": "b29c3611-9e1c-4a0d-b875-f715d757436d"
      },
      "execution_count": null,
      "outputs": [
        {
          "output_type": "stream",
          "name": "stdout",
          "text": [
            "Enter the list : 3 5 7  9 6 \n",
            "3 9\n",
            "3 6\n",
            "5 7\n",
            "9 6\n"
          ]
        }
      ]
    },
    {
      "cell_type": "code",
      "source": [
        "#Flatten a nested list (e.g., [1, [2,3], [4,[5]]] → [1,2,3,4,5]).\n",
        "\n",
        "def nl (lst):\n",
        "  temp = []\n",
        "  for i in (lst):\n",
        "    if isinstance(i,list):\n",
        "      for j in i:\n",
        "        temp.append(j)\n",
        "    else:\n",
        "      temp.append(i)\n",
        "  print(temp)\n",
        "\n",
        "user_list = eval(input(\"Enter the nested list: \"))\n",
        "\n",
        "nl(user_list)"
      ],
      "metadata": {
        "colab": {
          "base_uri": "https://localhost:8080/"
        },
        "id": "i1OOtpgxWx63",
        "outputId": "ebebd4ce-3aec-4795-b24d-b7a2bb087946"
      },
      "execution_count": null,
      "outputs": [
        {
          "output_type": "stream",
          "name": "stdout",
          "text": [
            "Enter the nested list: [1, [2,3], [4,[5]]]\n",
            "[1, 2, 3, 4, [5]]\n"
          ]
        }
      ]
    },
    {
      "cell_type": "code",
      "source": [
        "\n",
        "\n",
        "# Flatten a nested list (e.g., [1, [2,3], [4,[5]]] → [1,2,3,4,5])\n",
        "\n",
        "def nl(lst):\n",
        "    temp = []\n",
        "    for i in lst:\n",
        "        if isinstance(i, list):   #\n",
        "            temp.extend(nl(i))\n",
        "        else:\n",
        "            temp.append(i)\n",
        "    return temp\n",
        "\n",
        "user_list = eval(input(\"Enter the nested list: \"))\n",
        "print(\"Flattened list:\", nl(user_list))\n",
        "\n"
      ],
      "metadata": {
        "colab": {
          "base_uri": "https://localhost:8080/"
        },
        "id": "nsjoZrtvujkR",
        "outputId": "cd0c3a67-8abe-4897-ab1e-cfaa1e7d7970"
      },
      "execution_count": null,
      "outputs": [
        {
          "output_type": "stream",
          "name": "stdout",
          "text": [
            "Enter the nested list: [1, [2,3], [4,[5]]]\n",
            "Flattened list: [1, 2, 3, 4, 5]\n"
          ]
        }
      ]
    },
    {
      "cell_type": "markdown",
      "source": [
        "**2. Tuples**\n",
        "\n",
        "Definition: Ordered, immutable collection.\n",
        "\n",
        "Properties:\n",
        "\n",
        "Indexed\n",
        "\n",
        "Immutable\n",
        "\n",
        "Allows duplicates"
      ],
      "metadata": {
        "id": "j51uATB7W6hu"
      }
    },
    {
      "cell_type": "code",
      "source": [
        "# Tuple examples\n",
        "person = (\"Alice\", 25, \"Engineer\")\n",
        "print(person[1])  # 25\n",
        "\n",
        "nested = (1, 2, (3, 4))\n",
        "print(nested[2][1])  # 4\n",
        "\n",
        "# Tuple to list and back\n",
        "tpl = (1, 2, 3)\n",
        "lst = list(tpl)\n",
        "lst.append(4)\n",
        "tpl = tuple(lst)\n",
        "print(tpl)\n"
      ],
      "metadata": {
        "colab": {
          "base_uri": "https://localhost:8080/"
        },
        "id": "SZ9gPg5vW-a9",
        "outputId": "c9beeae2-47fb-4e76-fc3c-32478cd73fe9"
      },
      "execution_count": null,
      "outputs": [
        {
          "output_type": "stream",
          "name": "stdout",
          "text": [
            "25\n",
            "4\n",
            "(1, 2, 3, 4)\n"
          ]
        }
      ]
    },
    {
      "cell_type": "markdown",
      "source": [
        "**Tasks:**\n",
        "\n",
        "Swap first and last elements of a tuple using unpacking.\n",
        "\n",
        "Convert a tuple to list, modify, and convert back to tuple."
      ],
      "metadata": {
        "id": "bxbThSheW-uN"
      }
    },
    {
      "cell_type": "code",
      "source": [
        "#Swap first and last elements of a tuple using unpacking.\n",
        "user_tuple = (1, 2, 3, 4, 5)\n",
        "\n",
        "temp_list = list(user_tuple)\n",
        "\n",
        "temp_list[0], temp_list[-1] = temp_list[-1], temp_list[0]\n",
        "\n",
        "user_tuple = tuple(temp_list)\n",
        "print(user_tuple)\n"
      ],
      "metadata": {
        "colab": {
          "base_uri": "https://localhost:8080/"
        },
        "id": "_AvV20HlW_gd",
        "outputId": "2a5abffe-3daf-4384-b874-71e8baaac7d8"
      },
      "execution_count": 1,
      "outputs": [
        {
          "output_type": "stream",
          "name": "stdout",
          "text": [
            "(5, 2, 3, 4, 1)\n"
          ]
        }
      ]
    },
    {
      "cell_type": "code",
      "source": [
        "#Convert a tuple to list, modify, and convert back to tuple.\n",
        "tpl = (5,7,8,4.5)\n",
        "lst = list(tpl)\n",
        "lst.append(4)\n",
        "lst.pop(0)\n",
        "tpl = tuple(lst)\n",
        "print(tpl)\n",
        "\n"
      ],
      "metadata": {
        "colab": {
          "base_uri": "https://localhost:8080/"
        },
        "id": "33jp6kyXW_0F",
        "outputId": "d3be28bc-4b04-4d1c-a4fc-781fbffb8185"
      },
      "execution_count": null,
      "outputs": [
        {
          "output_type": "stream",
          "name": "stdout",
          "text": [
            "(7, 8, 4.5, 4)\n"
          ]
        }
      ]
    },
    {
      "cell_type": "markdown",
      "source": [
        "**3. Sets**\n",
        "\n",
        "Definition: Unordered collection of unique elements.\n",
        "\n",
        "Properties:\n",
        "\n",
        "No duplicates\n",
        "\n",
        "Mutable (can add/remove elements)\n",
        "\n",
        "No indexing\n",
        "\n"
      ],
      "metadata": {
        "id": "gSt1l1nIXQZV"
      }
    },
    {
      "cell_type": "code",
      "source": [
        "# Set examples\n",
        "numbers = {1, 2, 2, 3, 4}\n",
        "numbers.add(5)\n",
        "numbers.remove(2)\n",
        "print(numbers)  # {1, 3, 4, 5}\n",
        "\n",
        "A = {1,2,3,4}\n",
        "B = {3,4,5,6}\n",
        "print(A.union(B))       # {1,2,3,4,5,6}\n",
        "print(A.intersection(B))# {3,4}\n",
        "print(A.difference(B))  # {1,2}\n"
      ],
      "metadata": {
        "id": "e3KtykibXUN-",
        "colab": {
          "base_uri": "https://localhost:8080/"
        },
        "outputId": "1b5a61ed-88ea-4f84-ed9f-19793a8e1203"
      },
      "execution_count": 2,
      "outputs": [
        {
          "output_type": "stream",
          "name": "stdout",
          "text": [
            "{1, 3, 4, 5}\n",
            "{1, 2, 3, 4, 5, 6}\n",
            "{3, 4}\n",
            "{1, 2}\n"
          ]
        }
      ]
    },
    {
      "cell_type": "markdown",
      "source": [
        "**Tasks:**\n",
        "\n",
        "Find unique words in a sentence.\n",
        "\n",
        "Find common elements in three sets.\n",
        "\n",
        "Elements present in one list but not in another."
      ],
      "metadata": {
        "id": "yfPPSOQqXUed"
      }
    },
    {
      "cell_type": "code",
      "source": [
        "#Find unique words in a sentence.\n",
        "def unique_words (ip):\n",
        "  op = set(ip.split())\n",
        "  print (str(op))\n",
        "\n",
        "ip = input(\"Enter the string : \")\n",
        "unique_words (ip)"
      ],
      "metadata": {
        "id": "K5SLKd1aXVw9",
        "colab": {
          "base_uri": "https://localhost:8080/"
        },
        "outputId": "21e0eb66-4566-4af3-ce19-da79eca53829"
      },
      "execution_count": 5,
      "outputs": [
        {
          "output_type": "stream",
          "name": "stdout",
          "text": [
            "Enter the string : mango is waiting for mango friend\n",
            "{'is', 'for', 'friend', 'waiting', 'mango'}\n"
          ]
        }
      ]
    },
    {
      "cell_type": "code",
      "source": [
        "#Find common elements in three sets.\n",
        "def common_ele (set1,set2,set3):\n",
        "  a = set1.intersection(set2)\n",
        "  op = a.intersection(set3)\n",
        "  print(op)\n",
        "\n",
        "ip1 = input(\"Enter the elements in set-1 : \" ). split()\n",
        "set1 = set(ip1)\n",
        "ip2 = input(\"Enter the elements in set-2 : \" ). split()\n",
        "set2 = set(ip2)\n",
        "ip3 = input(\"Enter the elements in set-1 : \" ). split()\n",
        "set3 = set(ip3)\n",
        "common_ele (set1,set2,set3)\n"
      ],
      "metadata": {
        "id": "verRvYY3XWFf",
        "colab": {
          "base_uri": "https://localhost:8080/"
        },
        "outputId": "27fda6a9-e71e-48bb-e222-a19d7528f694"
      },
      "execution_count": 9,
      "outputs": [
        {
          "output_type": "stream",
          "name": "stdout",
          "text": [
            "Enter the elements in set-1 : 1 2 3 4\n",
            "Enter the elements in set-2 : 3 4 5 6\n",
            "Enter the elements in set-1 : 7 8 3 4\n",
            "{'4', '3'}\n"
          ]
        }
      ]
    },
    {
      "cell_type": "code",
      "source": [
        "#Elements present in one list but not in another.\n",
        "def unique_ele (l1,l2):\n",
        "  set1 = set(l1)\n",
        "  set2 = set(l2)\n",
        "  op = set1.difference(set2)\n",
        "  print(op)\n",
        "\n",
        "l1 = list(map(int,input(\"Enter the elements in the list (Only Numbers)\").split()))\n",
        "l2 = list(map(int,input(\"Enter the elements in the list (Only Numbers)\").split()))\n",
        "unique_ele (l1,l2)"
      ],
      "metadata": {
        "id": "vVotWmArXV-N",
        "colab": {
          "base_uri": "https://localhost:8080/"
        },
        "outputId": "db3c9a9e-b3a3-4866-ab4a-20de45340ad7"
      },
      "execution_count": 10,
      "outputs": [
        {
          "output_type": "stream",
          "name": "stdout",
          "text": [
            "Enter the elements in the list (Only Numbers)1 2 3 4 5\n",
            "Enter the elements in the list (Only Numbers)3 4 5 6 7\n",
            "{1, 2}\n"
          ]
        }
      ]
    },
    {
      "cell_type": "markdown",
      "source": [
        "**4. Dictionaries**\n",
        "\n",
        "Definition: Unordered collection of key-value pairs.\n",
        "\n",
        "Properties:\n",
        "\n",
        "Keys are unique\n",
        "\n",
        "Values can repeat\n",
        "\n",
        "Mutable\n"
      ],
      "metadata": {
        "id": "l94oj3NuXcXl"
      }
    },
    {
      "cell_type": "code",
      "source": [
        "# Dictionary examples\n",
        "student = {\"name\": \"Alice\", \"age\": 20, \"city\": \"Delhi\"}\n",
        "print(student[\"name\"])  # Alice\n",
        "student[\"grade\"] = \"A\"\n",
        "student[\"age\"] = 21\n",
        "\n",
        "# Word frequency example\n",
        "text = \"Data science is fun and science is cool\"\n",
        "words = text.split()\n",
        "freq = {}\n",
        "for word in words:\n",
        "    freq[word] = freq.get(word,0) + 1\n",
        "print(freq)\n"
      ],
      "metadata": {
        "id": "Fw0GJOg2XosG",
        "colab": {
          "base_uri": "https://localhost:8080/"
        },
        "outputId": "eb3efbb4-b233-4300-b033-8af6996bad13"
      },
      "execution_count": 13,
      "outputs": [
        {
          "output_type": "stream",
          "name": "stdout",
          "text": [
            "Alice\n",
            "{'Data': 1, 'science': 2, 'is': 2, 'fun': 1, 'and': 1, 'cool': 1}\n"
          ]
        }
      ]
    },
    {
      "cell_type": "markdown",
      "source": [
        "\n",
        "**Tasks:**\n",
        "\n",
        "Merge two dictionaries and sum values if keys match.\n",
        "\n",
        "Extract keys with maximum values.\n",
        "\n",
        "Find characters in a string that appear exactly twice."
      ],
      "metadata": {
        "id": "v_jXvWmoXpBV"
      }
    },
    {
      "cell_type": "code",
      "source": [
        "#Merge two dictionaries and sum values if keys match.\n",
        "\n",
        "\n",
        "def sum_value (dict1,dict2):\n",
        "  merged = dict1.copy()\n",
        "  for i in dict2:\n",
        "    if i in merged:\n",
        "      merged[i] += dict2[i]\n",
        "    else:\n",
        "      merged[i] = dict2[i]\n",
        "  print(merged)\n",
        "\n",
        "\n",
        "dict1 = eval(input(\"Enter the first dictionary\"))\n",
        "dict2 = eval(input(\"Enter the first dictionary\"))\n",
        "sum_value (dict1,dict2)\n",
        "\n"
      ],
      "metadata": {
        "colab": {
          "base_uri": "https://localhost:8080/"
        },
        "id": "0jbc6YypXsPu",
        "outputId": "9abdfd17-0951-40e8-b66b-bb682af505aa"
      },
      "execution_count": 12,
      "outputs": [
        {
          "output_type": "stream",
          "name": "stdout",
          "text": [
            "Enter the first dictionary{'b': 5, 'c': 15}\n",
            "Enter the first dictionary {'a': 10, 'b': 20}\n",
            "{'b': 25, 'c': 15, 'a': 10}\n"
          ]
        }
      ]
    },
    {
      "cell_type": "code",
      "source": [
        "#Extract keys with maximum values.\n",
        "\n",
        "\n",
        "def max_key(dict1):\n",
        "    max_val = list(dict1.values())[0]\n",
        "    keys = []\n",
        "\n",
        "    for i in dict1:\n",
        "        if dict1[i] > max_val:\n",
        "            max_val = dict1[i]\n",
        "            keys = [i]\n",
        "        elif dict1[i] == max_val:\n",
        "            keys.append(i)\n",
        "\n",
        "    print(\"Keys with maximum value:\", keys)\n",
        "\n",
        "\n",
        "dict1 = eval(input(\"Enter dictionary : \"))\n",
        "max_key(dict1)\n",
        "\n"
      ],
      "metadata": {
        "id": "X0c0f-9SXsqt",
        "colab": {
          "base_uri": "https://localhost:8080/"
        },
        "outputId": "8642fecf-d8a2-4e77-8e34-1ecc124d38b7"
      },
      "execution_count": 27,
      "outputs": [
        {
          "output_type": "stream",
          "name": "stdout",
          "text": [
            "Enter dictionary : {'a':10,'b':20,'c':15}\n",
            "Keys with maximum value: ['b']\n"
          ]
        }
      ]
    },
    {
      "cell_type": "code",
      "source": [
        "#Find characters in a string that appear exactly twice.\n",
        "\n",
        "def twice_chars(s):\n",
        "    freq = {}\n",
        "    result = []\n",
        "    for ch in s:\n",
        "        freq[ch] = freq.get(ch, 0) + 1\n",
        "        if freq[ch] == 2:\n",
        "            result.append(ch)\n",
        "        elif freq[ch] > 2 and ch in result:\n",
        "            result.remove(ch)\n",
        "\n",
        "    print(\"Characters that appear exactly twice:\", result)\n",
        "\n",
        "\n",
        "string = input(\"Enter a string: \")\n",
        "twice_chars(string)\n"
      ],
      "metadata": {
        "id": "_FrdWzgsXsie",
        "colab": {
          "base_uri": "https://localhost:8080/"
        },
        "outputId": "ca8185cf-ab35-470b-8d4a-ab725ec7fefc"
      },
      "execution_count": 1,
      "outputs": [
        {
          "output_type": "stream",
          "name": "stdout",
          "text": [
            "Enter a string: gloogle\n",
            "Characters that appear exactly twice: ['o', 'g', 'l']\n"
          ]
        }
      ]
    }
  ]
}