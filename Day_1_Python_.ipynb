{
  "nbformat": 4,
  "nbformat_minor": 0,
  "metadata": {
    "colab": {
      "provenance": []
    },
    "kernelspec": {
      "name": "python3",
      "display_name": "Python 3"
    },
    "language_info": {
      "name": "python"
    }
  },
  "cells": [
    {
      "cell_type": "markdown",
      "source": [
        "\n",
        "**DAY 1 PYTHON – DEEP LEARNING NOTES & TASKS**\n",
        "\n",
        "This notebook is designed to give a deep understanding of Python basics\n",
        "for interviews at Amazon, Google, etc.\n",
        "\n",
        "Each section contains:\n",
        "  1. Notes\n",
        "  2. Examples (runnable)\n",
        "  3. Tasks (in comments, writing my solutions below)\n",
        "\n"
      ],
      "metadata": {
        "id": "Wk8XzsrKPEh8"
      }
    },
    {
      "cell_type": "markdown",
      "source": [
        "\n",
        "**VARIABLES & DATA TYPES**\n",
        "\n",
        "Notes:\n",
        " - Variables are names pointing to data.\n",
        " - Python is dynamically typed.\n",
        " - Types: int, float, str, bool\n",
        " - Variables are references to objects in memory"
      ],
      "metadata": {
        "id": "E1AdmF51PMup"
      }
    },
    {
      "cell_type": "code",
      "source": [
        "# Examples:\n",
        "a = 10      # int\n",
        "b = 3.5     # float\n",
        "name = \"Aashika\"\n",
        "is_active = True\n",
        "\n",
        "print(type(a), type(b), type(name), type(is_active))\n",
        "\n",
        "#variables store references\n",
        "x = [1,2,3]\n",
        "y = x\n",
        "y.append(4)\n",
        "print(\"x after modifying y:\", x)\n"
      ],
      "metadata": {
        "colab": {
          "base_uri": "https://localhost:8080/"
        },
        "id": "ORqpgxN8Qf2G",
        "outputId": "500d0979-adbe-4d64-d303-884876c0f0b3"
      },
      "execution_count": 1,
      "outputs": [
        {
          "output_type": "stream",
          "name": "stdout",
          "text": [
            "<class 'int'> <class 'float'> <class 'str'> <class 'bool'>\n",
            "x after modifying y: [1, 2, 3, 4]\n"
          ]
        }
      ]
    },
    {
      "cell_type": "markdown",
      "source": [
        "Task 1: Create two lists pointing to the same object. Modify one. Observe the other.\n",
        "Task 2: Create two lists that are independent and modify one. Check the other.\n",
        "Task 3: Create variables for your name, age, is_student and print them.\n"
      ],
      "metadata": {
        "id": "1-ZndZbOQtTc"
      }
    },
    {
      "cell_type": "code",
      "source": [
        "# Create two lists pointing to the same object. Modify one. Observe the other\n",
        "list1 = [\"aash\",\"sheik\",\"ani\",\"aji\"]\n",
        "list2 = list1\n",
        "list2.append(\"xxx\")\n",
        "list2.pop()\n",
        "print(list2)\n"
      ],
      "metadata": {
        "colab": {
          "base_uri": "https://localhost:8080/"
        },
        "id": "Nct5YFAoQ1dR",
        "outputId": "5d2aacd5-aeb6-43ed-aba4-bc131aa7e457"
      },
      "execution_count": 9,
      "outputs": [
        {
          "output_type": "stream",
          "name": "stdout",
          "text": [
            "['aash', 'sheik', 'ani', 'aji']\n"
          ]
        }
      ]
    },
    {
      "cell_type": "code",
      "source": [
        " #Create two lists that are independent and modify one. Check the other."
      ],
      "metadata": {
        "id": "9Rt5UkM2Ryu1"
      },
      "execution_count": null,
      "outputs": []
    },
    {
      "cell_type": "code",
      "source": [
        "#Create variables for your name, age, is_student and print them."
      ],
      "metadata": {
        "id": "ELliVuTbR4o_"
      },
      "execution_count": null,
      "outputs": []
    },
    {
      "cell_type": "markdown",
      "source": [
        "**2. NUMBERS & ARITHMETIC**\n",
        "\n",
        "**Notes:**\n",
        "- Operators: `+`, `-`, `*`, `/`, `//`, `%`, `**`\n",
        "- Division `/` always returns float\n",
        "- Floor division `//` returns integer\n",
        "- Edge case: division by zero → `ZeroDivisionError`\n",
        "- Swap numbers without temp variable: `x, y = y, x`\n"
      ],
      "metadata": {
        "id": "PZVyAchCR9gM"
      }
    },
    {
      "cell_type": "code",
      "source": [
        "# Examples:\n",
        "x = 7\n",
        "y = 3\n",
        "print(\"Add:\", x+y, \"Subtract:\", x-y, \"Multiply:\", x*y)\n",
        "print(\"Divide:\", x/y, \"Floor Divide:\", x//y, \"Modulo:\", x%y, \"Power:\", x**y)\n",
        "\n",
        "# Swap without temp\n",
        "x, y = y, x\n",
        "print(\"Swapped x, y:\", x, y)\n"
      ],
      "metadata": {
        "id": "rBzRQvBsSGzQ"
      },
      "execution_count": null,
      "outputs": []
    },
    {
      "cell_type": "markdown",
      "source": [
        "Task 4: Take two numbers and print all operation results\n",
        "Task 5: Check if a number is divisible by 2,3,5\n",
        "Task 6: Convert Celsius → Fahrenheit → Kelvin in one function\n",
        "Task 7: Swap two numbers without a temp variable\n"
      ],
      "metadata": {
        "id": "dA9bW4aRSKeF"
      }
    },
    {
      "cell_type": "code",
      "source": [
        "#Take two numbers and print all operation results"
      ],
      "metadata": {
        "id": "9ZwWeFKlSUrg"
      },
      "execution_count": null,
      "outputs": []
    },
    {
      "cell_type": "code",
      "source": [
        "#Check if a number is divisible by 2,3,5"
      ],
      "metadata": {
        "id": "uFzs8wf-SVg0"
      },
      "execution_count": null,
      "outputs": []
    },
    {
      "cell_type": "code",
      "source": [
        "#Convert Celsius → Fahrenheit → Kelvin in one function"
      ],
      "metadata": {
        "id": "RbGE6uXcSVUu"
      },
      "execution_count": null,
      "outputs": []
    },
    {
      "cell_type": "code",
      "source": [
        "#Swap two numbers without a temp variable"
      ],
      "metadata": {
        "id": "NWqWdN00SVEn"
      },
      "execution_count": null,
      "outputs": []
    },
    {
      "cell_type": "markdown",
      "source": [
        "3.**STRINGS**\n",
        "\n",
        "**Notes:**\n",
        "- Strings are immutable sequences of characters\n",
        "- Common methods: `len()`, `upper()`, `lower()`, `replace()`, `split()`, `join()`\n",
        "- Slicing: `s[start:stop:step]`\n",
        "- Reverse string: `s[::-1]`\n",
        "- Edge cases: empty string, single character, unicode\n"
      ],
      "metadata": {
        "id": "qwXB5bMESjEg"
      }
    },
    {
      "cell_type": "code",
      "source": [
        "# Examples:\n",
        "s = \"Amazon\"\n",
        "print(\"First char:\", s[0], \"Last char:\", s[-1])\n",
        "print(\"Slice [1:4]:\", s[1:4])\n",
        "print(\"Upper:\", s.upper(), \"Lower:\", s.lower(), \"Replace:\", s.replace(\"A\",\"a\"))\n",
        "\n",
        "rev = s[::-1]\n",
        "print(\"Reversed:\", rev)\n"
      ],
      "metadata": {
        "id": "joOSneZzTGAh"
      },
      "execution_count": null,
      "outputs": []
    },
    {
      "cell_type": "markdown",
      "source": [
        "Task 8: Check if a string is a palindrome using slicing\n",
        "Task 9: Count vowels and consonants in a string\n",
        "Task 10: Remove spaces and capitalize first letters of words\n",
        "Task 11: Reverse a string without using slicing [::-1]\n"
      ],
      "metadata": {
        "id": "_4vnhzHzTLcu"
      }
    },
    {
      "cell_type": "code",
      "source": [
        "#Check if a string is a palindrome using slicing"
      ],
      "metadata": {
        "id": "up8rgY1RTQsu"
      },
      "execution_count": null,
      "outputs": []
    },
    {
      "cell_type": "code",
      "source": [
        "#Count vowels and consonants in a string"
      ],
      "metadata": {
        "id": "gbGDl7VdTSXc"
      },
      "execution_count": null,
      "outputs": []
    },
    {
      "cell_type": "code",
      "source": [
        "#Remove spaces and capitalize first letters of words"
      ],
      "metadata": {
        "id": "Mwiuz6WJTSOV"
      },
      "execution_count": null,
      "outputs": []
    },
    {
      "cell_type": "code",
      "source": [
        "#Reverse a string without using slicing [::-1]"
      ],
      "metadata": {
        "id": "kBJH2xHHTR_w"
      },
      "execution_count": null,
      "outputs": []
    },
    {
      "cell_type": "markdown",
      "source": [
        "**4.LISTS, TUPLES, SETS, DICTIONARIES**\n",
        "\n",
        "**Notes:**\n",
        "- Lists: ordered, mutable, can contain mixed types\n",
        "- Tuples: ordered, immutable, can be dict keys\n",
        "- Sets: unordered, unique, fast membership\n",
        "- Dicts: key-value pairs, fast lookup\n",
        "\n",
        "**Tips:** Dictionary comprehension is very useful for Amazon/Google interview problems\n"
      ],
      "metadata": {
        "id": "l3gy5mvhTbyy"
      }
    },
    {
      "cell_type": "code",
      "source": [
        "# Lists\n",
        "lst = [1,\"hello\",3.5,True]\n",
        "lst.append(100)\n",
        "lst.insert(1,\"new\")\n",
        "lst.remove(\"hello\")\n",
        "print(\"List:\", lst)\n",
        "\n",
        "# Tuple\n",
        "t = (1,2,(3,4))\n",
        "print(\"Tuple element:\", t[2][1])\n",
        "\n",
        "# Set\n",
        "s = {1,2,2,3}\n",
        "s.add(4)\n",
        "print(\"Set:\", s)\n",
        "\n",
        "# Dictionary\n",
        "d = {\"name\":\"Aashika\", \"age\":20}\n",
        "d[\"city\"]=\"Delhi\"\n",
        "print(\"Dict keys:\", d.keys(), \"Dict values:\", d.values())\n",
        "\n",
        "# Dictionary comprehension\n",
        "squared = {x:x**2 for x in range(1,6)}\n",
        "print(\"Squared dict:\", squared)\n"
      ],
      "metadata": {
        "id": "CnBD9FyaThnB"
      },
      "execution_count": null,
      "outputs": []
    },
    {
      "cell_type": "markdown",
      "source": [
        "Task 12: Create list of 5 numbers, tuple of 3 numbers, set with duplicates, dict of 2 key-value pairs\n",
        "Task 13: Given a list of words, count frequency of each word using dictionary\n",
        "Task 14: Find all unique characters in a string using a set\n",
        "Task 15: Create a dict with squares of numbers from 1-10 using comprehension\n"
      ],
      "metadata": {
        "id": "IktAdqu2Tkh5"
      }
    },
    {
      "cell_type": "code",
      "source": [
        "#Create list of 5 numbers, tuple of 3 numbers, set with duplicates, dict of 2 key-value pair"
      ],
      "metadata": {
        "id": "m77E1T5bTpjo"
      },
      "execution_count": null,
      "outputs": []
    },
    {
      "cell_type": "code",
      "source": [
        "#Given a list of words, count frequency of each word using dictionary"
      ],
      "metadata": {
        "id": "-uKH086mTquS"
      },
      "execution_count": null,
      "outputs": []
    },
    {
      "cell_type": "code",
      "source": [
        "#Find all unique characters in a string using a set Task"
      ],
      "metadata": {
        "id": "_-P9PlSsTqfL"
      },
      "execution_count": null,
      "outputs": []
    },
    {
      "cell_type": "code",
      "source": [
        "#Create a dict with squares of numbers from 1-10 using comprehension"
      ],
      "metadata": {
        "id": "0_McOcicTqRk"
      },
      "execution_count": null,
      "outputs": []
    },
    {
      "cell_type": "markdown",
      "source": [
        "**5.CONDITIONALS**\n",
        "\n",
        "**Notes:**\n",
        "- if, elif, else\n",
        "- Truthy/Falsy: non-zero/non-empty → True, 0/empty → False\n",
        "- Shortcuts: `if x:`, `if not x:`\n"
      ],
      "metadata": {
        "id": "d5mRYDSsTza6"
      }
    },
    {
      "cell_type": "code",
      "source": [
        "age = 18\n",
        "if age >= 18:\n",
        "    print(\"Adult\")\n",
        "elif age >= 13:\n",
        "    print(\"Teenager\")\n",
        "else:\n",
        "    print(\"Child\")\n"
      ],
      "metadata": {
        "id": "_57MPbk-T7AQ"
      },
      "execution_count": null,
      "outputs": []
    },
    {
      "cell_type": "markdown",
      "source": [
        "Task 16: Grade a student: >90 A, >80 B, >70 C, else F\n",
        "Task 17: Check if a year is a leap year\n",
        "Task 18: Given a number, print if it is positive, negative, or zero\n"
      ],
      "metadata": {
        "id": "anmXdqvqT8Ix"
      }
    },
    {
      "cell_type": "code",
      "source": [
        "#Grade a student: >90 A, >80 B, >70 C, else F"
      ],
      "metadata": {
        "id": "tWE5Has_UBLP"
      },
      "execution_count": null,
      "outputs": []
    },
    {
      "cell_type": "code",
      "source": [
        "#Check if a year is a leap year"
      ],
      "metadata": {
        "id": "xp77lkyfUBrO"
      },
      "execution_count": null,
      "outputs": []
    },
    {
      "cell_type": "code",
      "source": [
        "#Given a number, print if it is positive, negative, or zero\n",
        "\n",
        "\n"
      ],
      "metadata": {
        "id": "CLGFwsc7UBeY"
      },
      "execution_count": null,
      "outputs": []
    },
    {
      "cell_type": "markdown",
      "source": [
        "**6.LOOPS**\n",
        "\n",
        "**Notes:**\n",
        "- for loop, while loop\n",
        "- Nested loops\n",
        "- break, continue\n",
        "- range(start, stop, step)\n"
      ],
      "metadata": {
        "id": "SoONmM8OUI5w"
      }
    },
    {
      "cell_type": "code",
      "source": [
        "# For loop\n",
        "for i in range(5):\n",
        "    print(\"For loop:\", i)\n",
        "\n",
        "# While loop\n",
        "count = 0\n",
        "while count < 5:\n",
        "    print(\"While loop:\", count)\n",
        "    count += 1\n",
        "\n",
        "# Nested loops\n",
        "for i in range(3):\n",
        "    for j in range(2):\n",
        "        print(\"Nested:\", i,j)\n"
      ],
      "metadata": {
        "id": "hSnmzGd6UM06"
      },
      "execution_count": null,
      "outputs": []
    },
    {
      "cell_type": "markdown",
      "source": [
        "Task 19: Print multiplication table for numbers 1-5 using nested loops\n",
        "Task 20: Print all prime numbers up to 50\n",
        "Task 21: Print numbers from 1-50 divisible by 3 or 5\n",
        "Task 22: Pattern printing:\n",
        "\n",
        "```\n",
        "*\n",
        "**\n",
        "***\n",
        "****\n",
        "*****\n",
        "\n",
        "```\n",
        "\n",
        "\n"
      ],
      "metadata": {
        "id": "TVnA3afQUPxL"
      }
    },
    {
      "cell_type": "code",
      "source": [
        "#Print multiplication table for numbers 1-5 using nested loops"
      ],
      "metadata": {
        "id": "y7TzUFVWVqhR"
      },
      "execution_count": null,
      "outputs": []
    },
    {
      "cell_type": "code",
      "source": [
        "#Print all prime numbers up to 50"
      ],
      "metadata": {
        "id": "GRbN0q0IVram"
      },
      "execution_count": null,
      "outputs": []
    },
    {
      "cell_type": "code",
      "source": [
        "#Print numbers from 1-50 divisible by 3 or 5"
      ],
      "metadata": {
        "id": "oT61Xrl5VrLH"
      },
      "execution_count": null,
      "outputs": []
    },
    {
      "cell_type": "code",
      "source": [
        "'''Pattern printing:\n",
        "*\n",
        "**\n",
        "***\n",
        "****\n",
        "***** '''"
      ],
      "metadata": {
        "id": "zhXAob8gVq5K"
      },
      "execution_count": null,
      "outputs": []
    },
    {
      "cell_type": "markdown",
      "source": [
        "**7.FUNCTIONS**\n",
        "\n",
        "**Notes:**\n",
        "- Reusable blocks of code\n",
        "- Arguments: positional, keyword, default, *args, **kwargs\n",
        "- Can return multiple values\n",
        "- Recursion is very important for Amazon/Google interview prep\n"
      ],
      "metadata": {
        "id": "T9rhxziYVscJ"
      }
    },
    {
      "cell_type": "code",
      "source": [
        "def greet(name=\"Guest\"):\n",
        "    print(f\"Hello, {name}\")\n",
        "\n",
        "greet(\"Aashika\")\n",
        "greet()\n",
        "\n",
        "def add_mul(x,y):\n",
        "    return x+y, x*y\n",
        "\n",
        "sum_, prod = add_mul(3,4)\n",
        "print(sum_, prod)\n",
        "\n",
        "def foo(*args, **kwargs):\n",
        "    print(\"args:\", args)\n",
        "    print(\"kwargs:\", kwargs)\n",
        "\n",
        "foo(1,2,3,a=10,b=20)\n"
      ],
      "metadata": {
        "id": "TTpQvAG7WAEs"
      },
      "execution_count": null,
      "outputs": []
    },
    {
      "cell_type": "markdown",
      "source": [
        "Task 23: Factorial of a number using recursion\n",
        "Task 24: Check if a list is sorted\n",
        "Task 25: Function to find max and min in a list\n",
        "Task 26: Function to merge two dictionaries (sum values for same keys)\n",
        "Task 27: Function to count frequency of characters in a string\n"
      ],
      "metadata": {
        "id": "JMDlcShEWBCy"
      }
    },
    {
      "cell_type": "code",
      "source": [
        "#Factorial of a number using recursion\n",
        "\n"
      ],
      "metadata": {
        "id": "5vK3BJi-WOnD"
      },
      "execution_count": null,
      "outputs": []
    },
    {
      "cell_type": "code",
      "source": [
        "#Check if a list is sorted"
      ],
      "metadata": {
        "id": "xZHEOaZOWPiB"
      },
      "execution_count": null,
      "outputs": []
    },
    {
      "cell_type": "code",
      "source": [
        "#Function to find max and min in a list"
      ],
      "metadata": {
        "id": "nv8ovhGGWPUx"
      },
      "execution_count": null,
      "outputs": []
    },
    {
      "cell_type": "code",
      "source": [
        "#Function to merge two dictionaries (sum values for same keys)"
      ],
      "metadata": {
        "id": "pfXZlb3VWO-q"
      },
      "execution_count": null,
      "outputs": []
    },
    {
      "cell_type": "code",
      "source": [
        "#Function to count frequency of characters in a string"
      ],
      "metadata": {
        "id": "dAdb8Q-rZIIJ"
      },
      "execution_count": null,
      "outputs": []
    },
    {
      "cell_type": "markdown",
      "source": [
        "**8.BONUS – INTERVIEW PATTERNS**\n",
        "\n",
        "**Notes:**\n",
        "- Pattern printing is common in interviews\n",
        "- Examples:\n",
        "```\n",
        "*\n",
        "**\n",
        "***\n",
        "****\n",
        "*****\n",
        "```\n",
        "- Nested loops required\n",
        "- Understand indexes carefully\n",
        "\n",
        "Task 28: Print reverse pattern:\n",
        "```\n",
        "*****\n",
        "****\n",
        "***\n",
        "**\n",
        "*\n",
        "```\n",
        "Task 29: Pyramid pattern:\n",
        "\n",
        "\n",
        "```\n",
        "     *\n",
        "    ***\n",
        "   *****\n",
        "```\n",
        "\n",
        "Task 30: Given a list of numbers, print all pairs whose sum is even\n",
        "Task 31: Given a string, print all substrings\n",
        "\n"
      ],
      "metadata": {
        "id": "16y8467_WQhc"
      }
    },
    {
      "cell_type": "code",
      "source": [
        "'''Print reverse pattern:\n",
        "*****\n",
        "****\n",
        "***\n",
        "**\n",
        "* '''\n"
      ],
      "metadata": {
        "id": "Wb2Ea8dbYpZU"
      },
      "execution_count": null,
      "outputs": []
    },
    {
      "cell_type": "code",
      "source": [
        "'''Pyramid pattern:\n",
        "     *\n",
        "    ***\n",
        "   ***** '''"
      ],
      "metadata": {
        "id": "YmAsJVGNYpRn"
      },
      "execution_count": null,
      "outputs": []
    },
    {
      "cell_type": "code",
      "source": [
        "#Given a list of numbers, print all pairs whose sum is even"
      ],
      "metadata": {
        "id": "ouZnARKgYpKJ"
      },
      "execution_count": null,
      "outputs": []
    },
    {
      "cell_type": "code",
      "source": [
        "#Given a string, print all substrings"
      ],
      "metadata": {
        "id": "uZzRcPK-YpB1"
      },
      "execution_count": null,
      "outputs": []
    }
  ]
}