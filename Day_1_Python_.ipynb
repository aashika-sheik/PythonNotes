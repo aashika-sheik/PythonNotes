{
  "nbformat": 4,
  "nbformat_minor": 0,
  "metadata": {
    "colab": {
      "provenance": []
    },
    "kernelspec": {
      "name": "python3",
      "display_name": "Python 3"
    },
    "language_info": {
      "name": "python"
    }
  },
  "cells": [
    {
      "cell_type": "markdown",
      "source": [
        "\n",
        "**DAY 1 PYTHON – DEEP LEARNING NOTES & TASKS**\n",
        "\n",
        "This notebook is designed to give a deep understanding of Python basics\n",
        "for interviews at Amazon, Google, etc.\n",
        "\n",
        "Each section contains:\n",
        "  1. Notes\n",
        "  2. Examples (runnable)\n",
        "  3. Tasks (in comments, writing my solutions below)\n",
        "\n"
      ],
      "metadata": {
        "id": "Wk8XzsrKPEh8"
      }
    },
    {
      "cell_type": "markdown",
      "source": [
        "\n",
        "**VARIABLES & DATA TYPES**\n",
        "\n",
        "Notes:\n",
        " - Variables are names pointing to data.\n",
        " - Python is dynamically typed.\n",
        " - Types: int, float, str, bool\n",
        " - Variables are references to objects in memory"
      ],
      "metadata": {
        "id": "E1AdmF51PMup"
      }
    },
    {
      "cell_type": "code",
      "source": [
        "# Examples:\n",
        "a = 10      # int\n",
        "b = 3.5     # float\n",
        "name = \"Aashika\"\n",
        "is_active = True\n",
        "\n",
        "print(type(a), type(b), type(name), type(is_active))\n",
        "\n",
        "#variables store references\n",
        "x = [1,2,3]\n",
        "y = x\n",
        "y.append(4)\n",
        "print(\"x after modifying y:\", x)\n"
      ],
      "metadata": {
        "colab": {
          "base_uri": "https://localhost:8080/"
        },
        "id": "ORqpgxN8Qf2G",
        "outputId": "500d0979-adbe-4d64-d303-884876c0f0b3"
      },
      "execution_count": null,
      "outputs": [
        {
          "output_type": "stream",
          "name": "stdout",
          "text": [
            "<class 'int'> <class 'float'> <class 'str'> <class 'bool'>\n",
            "x after modifying y: [1, 2, 3, 4]\n"
          ]
        }
      ]
    },
    {
      "cell_type": "markdown",
      "source": [
        "Task 1: Create two lists pointing to the same object. Modify one. Observe the other.\n",
        "Task 2: Create two lists that are independent and modify one. Check the other.\n",
        "Task 3: Create variables for your name, age, is_student and print them.\n"
      ],
      "metadata": {
        "id": "1-ZndZbOQtTc"
      }
    },
    {
      "cell_type": "code",
      "source": [
        "# Create two lists pointing to the same object. Modify one. Observe the other\n",
        "list1 = [\"aash\",\"sheik\",\"ani\",\"aji\"]\n",
        "list2 = list1\n",
        "list2.append(\"xxx\")\n",
        "list2.pop()\n",
        "print(list2)\n"
      ],
      "metadata": {
        "colab": {
          "base_uri": "https://localhost:8080/"
        },
        "id": "Nct5YFAoQ1dR",
        "outputId": "5d2aacd5-aeb6-43ed-aba4-bc131aa7e457"
      },
      "execution_count": null,
      "outputs": [
        {
          "output_type": "stream",
          "name": "stdout",
          "text": [
            "['aash', 'sheik', 'ani', 'aji']\n"
          ]
        }
      ]
    },
    {
      "cell_type": "code",
      "source": [
        " #Create two lists that are independent and modify one. Check the other.\n",
        " list1 = [\"mia\",\"simbha\"]\n",
        " list2 = [\"MIA\",\"SIMBHA\"]\n",
        " list2.clear()\n",
        " print(list1)\n",
        " print(list2)"
      ],
      "metadata": {
        "id": "9Rt5UkM2Ryu1",
        "colab": {
          "base_uri": "https://localhost:8080/"
        },
        "outputId": "200e7069-704a-4627-81bf-53c18e54cdb1"
      },
      "execution_count": null,
      "outputs": [
        {
          "output_type": "stream",
          "name": "stdout",
          "text": [
            "['mia', 'simbha']\n",
            "[]\n"
          ]
        }
      ]
    },
    {
      "cell_type": "code",
      "source": [
        "#Create variables for your name, age, is_student and print them.\n",
        "name = input(\"Enter you're name:\")\n",
        "age = int(input(\"Enter you're age:\"))\n",
        "is_student = True\n",
        "\n",
        "print(type(name), type(age), type(is_student))\n",
        "\n",
        "\n",
        "print(name,age,is_student)\n"
      ],
      "metadata": {
        "id": "ELliVuTbR4o_",
        "colab": {
          "base_uri": "https://localhost:8080/"
        },
        "outputId": "5b2778be-ed34-4a48-dcfb-66ca3360441c"
      },
      "execution_count": null,
      "outputs": [
        {
          "output_type": "stream",
          "name": "stdout",
          "text": [
            "Enter you're name:aashika sheik\n",
            "Enter you're age:22\n",
            "<class 'str'> <class 'int'> <class 'bool'>\n",
            "aashika sheik 22 True\n"
          ]
        }
      ]
    },
    {
      "cell_type": "markdown",
      "source": [
        "**2. NUMBERS & ARITHMETIC**\n",
        "\n",
        "**Notes:**\n",
        "- Operators: `+`, `-`, `*`, `/`, `//`, `%`, `**`\n",
        "- Division `/` always returns float\n",
        "- Floor division `//` returns integer\n",
        "- Edge case: division by zero → `ZeroDivisionError`\n",
        "- Swap numbers without temp variable: `x, y = y, x`\n"
      ],
      "metadata": {
        "id": "PZVyAchCR9gM"
      }
    },
    {
      "cell_type": "code",
      "source": [
        "# Examples:\n",
        "x = 7\n",
        "y = 3\n",
        "print(\"Add:\", x+y, \"Subtract:\", x-y, \"Multiply:\", x*y)\n",
        "print(\"Divide:\", x/y, \"Floor Divide:\", x//y, \"Modulo:\", x%y, \"Power:\", x**y)\n",
        "\n",
        "# Swap without temp\n",
        "x, y = y, x\n",
        "print(\"Swapped x, y:\", x, y)\n"
      ],
      "metadata": {
        "id": "rBzRQvBsSGzQ",
        "colab": {
          "base_uri": "https://localhost:8080/"
        },
        "outputId": "77df6d9b-cfe8-437c-8283-50f0e0ae313b"
      },
      "execution_count": null,
      "outputs": [
        {
          "output_type": "stream",
          "name": "stdout",
          "text": [
            "Add: 10 Subtract: 4 Multiply: 21\n",
            "Divide: 2.3333333333333335 Floor Divide: 2 Modulo: 1 Power: 343\n",
            "Swapped x, y: 3 7\n"
          ]
        }
      ]
    },
    {
      "cell_type": "markdown",
      "source": [
        "Task 4: Take two numbers and print all operation results\n",
        "Task 5: Check if a number is divisible by 2,3,5\n",
        "Task 6: Convert Celsius → Fahrenheit → Kelvin in one function\n",
        "Task 7: Swap two numbers without a temp variable\n"
      ],
      "metadata": {
        "id": "dA9bW4aRSKeF"
      }
    },
    {
      "cell_type": "code",
      "source": [
        "#Take two numbers and print all operation results\n",
        "num1 = int(input(\"Enter first number:\"))\n",
        "num2 = int(input(\"Enter second number:\"))\n",
        "print(\"Addition of num1 and num2 : \",num1+num2)\n",
        "print(\"Subtraction of num1 and num2 : \",num1-num2)\n",
        "print (\"Multication of num1 and num2 :\",num1*num2)\n",
        "print(\"Division of num1 and num2 : \",num1/num2)\n",
        "print(\"Floor Division btwn num1 and num2 : \",num1//num2)\n",
        "print(\"Modulo of num1 and num2 : \",num1%num2)\n",
        "print(\"Power of num2 over num1 : \",num1**num2)2"
      ],
      "metadata": {
        "colab": {
          "base_uri": "https://localhost:8080/"
        },
        "id": "y4dQH0Ik8WFt",
        "outputId": "6b580f28-2c1e-468c-ff87-3b61584c5b99"
      },
      "execution_count": null,
      "outputs": [
        {
          "output_type": "stream",
          "name": "stdout",
          "text": [
            "Enter first number:23\n",
            "Enter second number:4\n",
            "Addition of num1 and num2 :  27\n",
            "Subtraction of num1 and num2 :  19\n",
            "Multication of num1 and num2 : 92\n",
            "Division of num1 and num2 :  5.75\n",
            "Floor Division btwn num1 and num2 :  5\n",
            "Modulo of num1 and num2 :  3\n",
            "Power of num2 over num1 :  279841\n"
          ]
        }
      ]
    },
    {
      "cell_type": "code",
      "source": [
        "#Check if a number is divisible by 2,3,5\n",
        "num1 = 2\n",
        "num2 = 3\n",
        "num3 = 5\n",
        "user_input = int(input(\"Enter the number:\"))\n",
        "if user_input % num1 ==0:\n",
        "  print(\"Number is divisible by 2\")\n",
        "if user_input % num2==0:\n",
        "  print(\"Number is divisible by 3\")\n",
        "if user_input % num3 == 0:\n",
        "  print (\"Number is divisble by 5\")\n",
        "if user_input % num1 !=0 and user_input % num2 !=0 and user_input % num3 !=0:\n",
        "  print(\"Number is neither printed by 2 nor 3 nor 5\")\n"
      ],
      "metadata": {
        "id": "uFzs8wf-SVg0",
        "colab": {
          "base_uri": "https://localhost:8080/"
        },
        "outputId": "7a5b0fa2-a1b3-4ae8-9529-ac4ddd394d27"
      },
      "execution_count": null,
      "outputs": [
        {
          "output_type": "stream",
          "name": "stdout",
          "text": [
            "Enter the number:15\n",
            "Number is divisible by 3\n",
            "Number is divisble by 5\n"
          ]
        }
      ]
    },
    {
      "cell_type": "code",
      "source": [
        "#Convert Celsius → Fahrenheit → Kelvin\n",
        "\n",
        "Celsius = int(input(\"Enter the celsius value:\"))\n",
        "Fahrenheit = (Celsius * 1.8 + 32)\n",
        "Kelvin = (Fahrenheit - 32) * 5/9 + 273.15 # Kelvin = Celsius + 273.15   # simpler direct formula\n",
        "print(f\"Given celsius is {Celsius},in fahrenheit is {Fahrenheit}, in kelvin is {Kelvin}\")\n"
      ],
      "metadata": {
        "id": "RbGE6uXcSVUu",
        "colab": {
          "base_uri": "https://localhost:8080/"
        },
        "outputId": "6383251c-31b2-4184-ab9a-25a5b1d2aace"
      },
      "execution_count": null,
      "outputs": [
        {
          "output_type": "stream",
          "name": "stdout",
          "text": [
            "Enter the celsius value:32\n",
            "(Given celsius is 32,in fahrenheit is 89.6, in kelvin is 305.15\n"
          ]
        }
      ]
    },
    {
      "cell_type": "code",
      "source": [
        "#Swap two numbers without a temp variable\n",
        "num1 = int(input(\"Enter first number:\"))\n",
        "num2 = int(input(\"Enter second number:\"))\n",
        "num1,num2 = num2,num1\n",
        "print(\"Swapped num1 to num2:\" ,num1)\n",
        "print(\"Swapped num2 to num1:\" ,num2)\n"
      ],
      "metadata": {
        "id": "NWqWdN00SVEn",
        "colab": {
          "base_uri": "https://localhost:8080/"
        },
        "outputId": "3b04d298-6520-47fc-87d6-757a5b5dc680"
      },
      "execution_count": null,
      "outputs": [
        {
          "output_type": "stream",
          "name": "stdout",
          "text": [
            "Enter first number:23\n",
            "Enter second number:32\n",
            "Swapped num1 to num2: 32\n",
            "Swapped num2 to num1: 23\n"
          ]
        }
      ]
    },
    {
      "cell_type": "markdown",
      "source": [
        "3.**STRINGS**\n",
        "\n",
        "**Notes:**\n",
        "- Strings are immutable sequences of characters\n",
        "- Common methods: `len()`, `upper()`, `lower()`, `replace()`, `split()`, `join()`\n",
        "- Slicing: `s[start:stop:step]`\n",
        "- Reverse string: `s[::-1]`\n",
        "- Edge cases: empty string, single character, unicode\n"
      ],
      "metadata": {
        "id": "qwXB5bMESjEg"
      }
    },
    {
      "cell_type": "code",
      "source": [
        "# Examples:\n",
        "s = \"Amazon\"\n",
        "print(\"First char:\", s[0], \"Last char:\", s[-1])\n",
        "print(\"Slice [1:4]:\", s[1:4])\n",
        "print(\"Upper:\", s.upper(), \"Lower:\", s.lower(), \"Replace:\", s.replace(\"A\",\"a\"))\n",
        "\n",
        "rev = s[::-1]\n",
        "print(\"Reversed:\", rev)\n"
      ],
      "metadata": {
        "id": "joOSneZzTGAh"
      },
      "execution_count": null,
      "outputs": []
    },
    {
      "cell_type": "markdown",
      "source": [
        "Task 8: Check if a string is a palindrome using slicing\n",
        "Task 9: Count vowels and consonants in a string\n",
        "Task 10: Remove spaces and capitalize first letters of words\n",
        "Task 11: Reverse a string without using slicing [::-1]\n"
      ],
      "metadata": {
        "id": "_4vnhzHzTLcu"
      }
    },
    {
      "cell_type": "code",
      "source": [
        "#Check if a string is a palindrome using slicing\n",
        "string = input(\"Enter the string:\")\n",
        "reversed_string = string [::-1]\n",
        "if string == reversed_string:\n",
        "  print(f\"The given input string - {string} is palindrome\")\n",
        "else:\n",
        "  print(f\"The given input string - {string} is not palindrome\")"
      ],
      "metadata": {
        "id": "up8rgY1RTQsu",
        "colab": {
          "base_uri": "https://localhost:8080/"
        },
        "outputId": "420af47f-e6f1-46de-b267-aece35bf66e5"
      },
      "execution_count": null,
      "outputs": [
        {
          "output_type": "stream",
          "name": "stdout",
          "text": [
            "Enter the string:tit for tat\n",
            "The given input string - tit for tat is not palindrome\n"
          ]
        }
      ]
    },
    {
      "cell_type": "code",
      "source": [
        "#Count vowels and consonants in a string\n",
        "string = input(\"Enter the string :\")\n",
        "vowels = \"aeiouAEIOU\"\n",
        "vowel_count = 0\n",
        "consonant_count = 0\n",
        "\n",
        "for char in string:\n",
        "    if char in vowels:\n",
        "        vowel_count += 1\n",
        "    elif char.isalpha():  # only letters\n",
        "        consonant_count += 1\n",
        "\n",
        "print(vowel_count)\n",
        "print(consonant_count)"
      ],
      "metadata": {
        "id": "gbGDl7VdTSXc",
        "colab": {
          "base_uri": "https://localhost:8080/"
        },
        "outputId": "71ed27e2-38e8-45a0-d03b-2c87b2acabd6"
      },
      "execution_count": null,
      "outputs": [
        {
          "output_type": "stream",
          "name": "stdout",
          "text": [
            "aashika\n",
            "4\n",
            "3\n"
          ]
        }
      ]
    },
    {
      "cell_type": "code",
      "source": [
        "#Remove spaces and capitalize first letters of words\n",
        "string = input(\"Enter the string:\")\n",
        "string_space = string.strip()\n",
        "string_caps = string.title()\n",
        "print(string_space,string_caps)"
      ],
      "metadata": {
        "id": "Mwiuz6WJTSOV",
        "colab": {
          "base_uri": "https://localhost:8080/"
        },
        "outputId": "2943fbcb-194f-40f4-b850-2873ed9aadbc"
      },
      "execution_count": null,
      "outputs": [
        {
          "output_type": "stream",
          "name": "stdout",
          "text": [
            "Enter the string:hello world\n",
            "hello world Hello World\n"
          ]
        }
      ]
    },
    {
      "cell_type": "code",
      "source": [
        "#Reverse a string without using slicing [::-1]\n",
        "str1 = input(\"Enter the string:\")\n",
        "str_list = list(str1)\n",
        "#reversed_list = list(reversed(str1)), reversed_string = str(reversed_list) --> gives the value as list\n",
        "#a= str_list.reverse() --> error cause reveresed list cant be stored this way\n",
        "str_list.reverse()\n",
        "reversed_string = \"\".join(str_list)\n",
        "print(reversed_string)"
      ],
      "metadata": {
        "id": "kBJH2xHHTR_w",
        "colab": {
          "base_uri": "https://localhost:8080/"
        },
        "outputId": "ecd57ff0-f9c5-4378-dead-79f294bb4cfc"
      },
      "execution_count": null,
      "outputs": [
        {
          "output_type": "stream",
          "name": "stdout",
          "text": [
            "Enter the string:aash\n",
            "hsaa\n"
          ]
        }
      ]
    },
    {
      "cell_type": "markdown",
      "source": [
        "**4.LISTS, TUPLES, SETS, DICTIONARIES**\n",
        "\n",
        "**List in Python**\n",
        "**Definition**\n",
        "\n",
        "A list is an ordered collection of items in Python.\n",
        "\n",
        "It can store elements of different data types like numbers, strings, booleans, or even other lists.\n",
        "\n",
        "Lists are mutable, meaning you can change, add, or remove items after creation.\n",
        "\n",
        "**Properties**\n",
        "\n",
        "Ordered → items have a defined order, accessible by index.\n",
        "\n",
        "Mutable → can modify items (add, remove, update).\n",
        "\n",
        "Allows duplicates → same value can appear multiple times.\n",
        "\n",
        "Heterogeneous elements → can store different data types.\n",
        "\n",
        "Indexable and iterable → supports indexing, slicing, and looping.\n",
        "\n",
        "**Example**\n",
        "\n",
        "\n",
        "```\n",
        "lst = [1, \"hello\", 3.5, True]\n",
        "lst.append(100)        \n",
        "lst.insert(1, \"new\")   \n",
        "lst.remove(\"hello\")    \n",
        "lst.pop()              \n",
        "print(lst)  # [1, 'new', 3.5, True]\n",
        "```\n",
        "\n",
        "**Tuple in Python**\n",
        "\n",
        "**Definition**\n",
        "\n",
        "A tuple is an ordered collection of items in Python, immutable (cannot change once created).\n",
        "\n",
        "Can store elements of different data types.\n",
        "\n",
        "**Properties**\n",
        "\n",
        "Ordered → items have a defined order.\n",
        "\n",
        "Immutable → cannot add, remove, or modify elements.\n",
        "\n",
        "Allows duplicates → same value can appear multiple times.\n",
        "\n",
        "Heterogeneous elements → can store different data types.\n",
        "\n",
        "Indexable and iterable → supports indexing, slicing, and looping.\n",
        "\n",
        "**Example**\n",
        "\n",
        "```\n",
        "t = (1, 2, (3, 4))\n",
        "print(t[0])       # 1\n",
        "print(t[2][1])    # 4\n",
        "print(t.count(2)) # 1\n",
        "print(t.index(3)) # 2\n",
        "\n",
        "```\n",
        "\n",
        "\n",
        "**Set in Python**\n",
        "\n",
        "**Definition**\n",
        "\n",
        "A set is an unordered collection of unique items in Python.\n",
        "\n",
        "Mutable, but items must be immutable (numbers, strings, tuples).\n",
        "\n",
        "**Properties**\n",
        "\n",
        "Unordered → no index, cannot access by position.\n",
        "\n",
        "Mutable → can add or remove elements.\n",
        "\n",
        "Unique elements only → duplicates automatically removed.\n",
        "\n",
        "Iterable → can loop through items.\n",
        "\n",
        "**Example**\n",
        "```\n",
        "s = {1, 2, 2, 3}\n",
        "s.add(4)\n",
        "s.remove(2)\n",
        "print(s)        # {1, 3, 4}\n",
        "print(2 in s)   # False\n",
        "print(s & {3,4,5})  # {3,4} intersection\n",
        "```\n",
        "\n",
        "\n",
        "**Dictionary in Python**\n",
        "\n",
        "**Definition**\n",
        "\n",
        "A dictionary is a collection of key → value pairs in Python.\n",
        "\n",
        "Keys must be unique and immutable, values can be any data type.\n",
        "\n",
        "**Properties**\n",
        "\n",
        "Unordered (Python 3.7+ maintains insertion order).\n",
        "\n",
        "Mutable → can add, update, or remove key-value pairs.\n",
        "\n",
        "Keys unique → duplicate keys not allowed.\n",
        "\n",
        "Values can be duplicates.\n",
        "\n",
        "Indexing by key → d[key].\n",
        "\n",
        "**Example**\n",
        "```\n",
        "d = {\"name\": \"Aashika\", \"age\": 20}\n",
        "d[\"city\"] = \"Delhi\"        \n",
        "print(d.keys())    # dict_keys(['name', 'age', 'city'])\n",
        "print(d.values())  # dict_values(['Aashika', 20, 'Delhi'])\n",
        "print(d.items())   # dict_items([('name','Aashika'),('age',20),('city','Delhi')])\n",
        "```\n",
        "\n",
        "\n",
        "**Dictionary Comprehension**\n",
        "**Definition**\n",
        "\n",
        "A concise way to create dictionaries from iterables or formulas.\n",
        "\n",
        "**Syntax**\n",
        "```\n",
        "{key_expression: value_expression for item in iterable if condition}\n",
        "```\n",
        "\n",
        "**Example 1: Squares**\n",
        "```\n",
        "squared = {x: x**2 for x in range(1,6)}\n",
        "print(squared)  # {1:1, 2:4, 3:9, 4:16, 5:25}\n",
        "```\n",
        "\n",
        "\n",
        "**Example 2: Even squares only**\n",
        "```\n",
        "even_squared = {x: x**2 for x in range(1,6) if x%2==0}\n",
        "print(even_squared)  # {2:4, 4:16}\n",
        "```\n",
        "\n",
        "\n",
        "**Example 3: Characters to ASCII**\n",
        "```\n",
        "chars = 'abc'\n",
        "ascii_dict = {c: ord(c) for c in chars} #ord() returns ascii value\n",
        "print(ascii_dict)  # {'a':97, 'b':98, 'c':99}\n",
        "```\n",
        "\n",
        "\n",
        "**Quick Interview Tips**\n",
        "\n",
        "List vs Tuple → List mutable, Tuple immutable.\n",
        "\n",
        "Set → perfect for uniqueness & membership checks.\n",
        "\n",
        "Dictionary comprehension → useful for mapping, counting, or transforming data.\n",
        "\n",
        "Nested access → lst[2][1], d['key'] often asked in coding rounds.\n",
        "\n",
        "len() → works for all collections: list, tuple, set, dict, string."
      ],
      "metadata": {
        "id": "hdLBkjdNPLFW"
      }
    },
    {
      "cell_type": "code",
      "source": [
        "# Lists\n",
        "lst = [1,\"hello\",3.5,True]\n",
        "lst.append(100)\n",
        "lst.insert(1,\"new\")\n",
        "lst.remove(\"hello\")\n",
        "print(\"List:\", lst)\n",
        "\n",
        "# Tuple\n",
        "t = (1,2,(3,4))\n",
        "print(\"Tuple element:\", t[2][1])\n",
        "\n",
        "# Set\n",
        "s = {1,2,2,3}\n",
        "s.add(4)\n",
        "print(\"Set:\", s)\n",
        "\n",
        "# Dictionary\n",
        "d = {\"name\":\"Aashika\", \"age\":20}\n",
        "d[\"city\"]=\"Delhi\"\n",
        "print(\"Dict keys:\", d.keys(), \"Dict values:\", d.values())\n",
        "\n",
        "# Dictionary comprehension\n",
        "squared = {x:x**2 for x in range(1,6)}\n",
        "print(\"Squared dict:\", squared)\n"
      ],
      "metadata": {
        "id": "CnBD9FyaThnB"
      },
      "execution_count": null,
      "outputs": []
    },
    {
      "cell_type": "markdown",
      "source": [
        "Task 12: Create list of 5 numbers, tuple of 3 numbers, set with duplicates, dict of 2 key-value pairs\n",
        "Task 13: Given a list of words, count frequency of each word using dictionary\n",
        "Task 14: Find all unique characters in a string using a set\n",
        "Task 15: Create a dict with squares of numbers from 1-10 using comprehension\n"
      ],
      "metadata": {
        "id": "IktAdqu2Tkh5"
      }
    },
    {
      "cell_type": "code",
      "source": [
        "#Create list of 5 numbers, tuple of 3 numbers, set with duplicates, dict of 2 key-value pair\n",
        "list_creation = [1,2,3,4,5] #list_creation = [1,\"aash\",\"True\",1.34]\n",
        "tuple_creation = (12,12,2003)\n",
        "set_creation = {12,12,2003}\n",
        "dict_creation = {\"name\":\"Aashika Sheik\",\"age\":\"20\"}\n",
        "print(type(list_creation),type(tuple_creation),type(set_creation),type(dict_creation))"
      ],
      "metadata": {
        "id": "m77E1T5bTpjo",
        "colab": {
          "base_uri": "https://localhost:8080/"
        },
        "outputId": "08b0b0a7-356c-45da-fcde-386cc84a61b7"
      },
      "execution_count": 57,
      "outputs": [
        {
          "output_type": "stream",
          "name": "stdout",
          "text": [
            "<class 'list'> <class 'tuple'> <class 'set'> <class 'dict'>\n"
          ]
        }
      ]
    },
    {
      "cell_type": "code",
      "source": [
        "#Given a list of words, count frequency of each word using dictionary\n",
        "ip =(input(\"Enter you're string\"))\n",
        "words = ip.split()\n",
        "frequency = {}\n",
        "for i in words:\n",
        "  if i not in frequency:\n",
        "    frequency[i] = 1\n",
        "  else:\n",
        "    frequency[i] += 1\n",
        "print(frequency)\n"
      ],
      "metadata": {
        "id": "-uKH086mTquS",
        "colab": {
          "base_uri": "https://localhost:8080/"
        },
        "outputId": "3d905388-9499-44ad-eaeb-ffc5fdf3e952"
      },
      "execution_count": 87,
      "outputs": [
        {
          "output_type": "stream",
          "name": "stdout",
          "text": [
            "Enter you're stringi love my husband and i  miss him\n",
            "{'i': 2, 'love': 1, 'my': 1, 'husband': 1, 'and': 1, 'miss': 1, 'him': 1}\n"
          ]
        }
      ]
    },
    {
      "cell_type": "code",
      "source": [
        "#Find all unique characters in a string using a set Task\n",
        "string = input(\"Enter the string\")\n",
        "unquie = set(string)\n",
        "unquie_string = \"\".join(unquie)\n",
        "print(unquie_string)"
      ],
      "metadata": {
        "id": "_-P9PlSsTqfL",
        "colab": {
          "base_uri": "https://localhost:8080/"
        },
        "outputId": "2c38ec69-80bf-4f1c-ef98-d4f87a2acc01"
      },
      "execution_count": 60,
      "outputs": [
        {
          "output_type": "stream",
          "name": "stdout",
          "text": [
            "Enter the stringaashika\n",
            "skhai\n"
          ]
        }
      ]
    },
    {
      "cell_type": "code",
      "source": [
        "#Create a dict with squares of numbers from 1-10 using comprehension\n",
        "dict_com = {x:x**2 for x in range (1,11)}\n",
        "print(dict_com)"
      ],
      "metadata": {
        "id": "0_McOcicTqRk",
        "colab": {
          "base_uri": "https://localhost:8080/"
        },
        "outputId": "b3bde3f5-7899-44d0-b544-0e5556958f80"
      },
      "execution_count": 62,
      "outputs": [
        {
          "output_type": "stream",
          "name": "stdout",
          "text": [
            "{1: 1, 2: 4, 3: 9, 4: 16, 5: 25, 6: 36, 7: 49, 8: 64, 9: 81, 10: 100}\n"
          ]
        }
      ]
    },
    {
      "cell_type": "markdown",
      "source": [
        "**5.CONDITIONALS**\n",
        "\n",
        "**Notes:**\n",
        "- if, elif, else\n",
        "- Truthy/Falsy: non-zero/non-empty → True, 0/empty → False\n",
        "- Shortcuts: `if x:`, `if not x:`\n"
      ],
      "metadata": {
        "id": "d5mRYDSsTza6"
      }
    },
    {
      "cell_type": "code",
      "source": [
        "age = 18\n",
        "if age >= 18:\n",
        "    print(\"Adult\")\n",
        "elif age >= 13:\n",
        "    print(\"Teenager\")\n",
        "else:\n",
        "    print(\"Child\")\n"
      ],
      "metadata": {
        "id": "_57MPbk-T7AQ"
      },
      "execution_count": null,
      "outputs": []
    },
    {
      "cell_type": "markdown",
      "source": [
        "Task 16: Grade a student: >90 A, >80 B, >70 C, else F\n",
        "Task 17: Check if a year is a leap year\n",
        "Task 18: Given a number, print if it is positive, negative, or zero\n"
      ],
      "metadata": {
        "id": "anmXdqvqT8Ix"
      }
    },
    {
      "cell_type": "code",
      "source": [
        "#Grade a student: >90 A, >80 B, >70 C, else F\n",
        "marks = int(input(\"Enter the marks:\"))\n",
        "if marks>90:\n",
        "  print(\"Grade A\")\n",
        "elif marks >80:\n",
        "  print(\"Grade B\")\n",
        "elif(marks>70):\n",
        "  print(\"Grade C\")\n",
        "else:\n",
        "  print(\"F\")"
      ],
      "metadata": {
        "id": "tWE5Has_UBLP",
        "colab": {
          "base_uri": "https://localhost:8080/"
        },
        "outputId": "ded2cd79-bfe6-4740-e3a4-861d72af6e1d"
      },
      "execution_count": 64,
      "outputs": [
        {
          "output_type": "stream",
          "name": "stdout",
          "text": [
            "Enter the marks:34\n",
            "F\n"
          ]
        }
      ]
    },
    {
      "cell_type": "code",
      "source": [
        "#Check if a year is a leap year\n",
        "year = int(input(\"Enter the year:\"))\n",
        "if ( (year % 4 == 0 and year %100!=0) or (year %400==0)):\n",
        "  print(\"Leap Year\")\n",
        "else:\n",
        "  print(\"Not a Leap Year\")\n"
      ],
      "metadata": {
        "id": "xp77lkyfUBrO",
        "colab": {
          "base_uri": "https://localhost:8080/"
        },
        "outputId": "163e3b9b-6f21-4cf4-a24a-ef4bb365ec1d"
      },
      "execution_count": 66,
      "outputs": [
        {
          "output_type": "stream",
          "name": "stdout",
          "text": [
            "Enter the year:2003\n",
            "Not a Leap Year\n"
          ]
        }
      ]
    },
    {
      "cell_type": "code",
      "source": [
        "#Given a number, print if it is positive, negative, or zero\n",
        "num = int(input(\"Enter the number:\"))\n",
        "if (num>0):\n",
        "  print(\"postive\")\n",
        "elif (num<0):\n",
        "  print(\"negative\")\n",
        "else:\n",
        "  print(\"zero\")\n",
        "\n"
      ],
      "metadata": {
        "id": "CLGFwsc7UBeY",
        "colab": {
          "base_uri": "https://localhost:8080/"
        },
        "outputId": "37e0d916-cf7e-4ad5-a689-e5f90ebd2a45"
      },
      "execution_count": 68,
      "outputs": [
        {
          "output_type": "stream",
          "name": "stdout",
          "text": [
            "Enter the number:-1\n",
            "negative\n"
          ]
        }
      ]
    },
    {
      "cell_type": "markdown",
      "source": [
        "**6.LOOPS**\n",
        "\n",
        "**Notes:**\n",
        "- for loop, while loop\n",
        "- Nested loops\n",
        "- break, continue\n",
        "- range(start, stop, step)\n"
      ],
      "metadata": {
        "id": "SoONmM8OUI5w"
      }
    },
    {
      "cell_type": "code",
      "source": [
        "# For loop\n",
        "for i in range(5):\n",
        "    print(\"For loop:\", i)\n",
        "\n",
        "# While loop\n",
        "count = 0\n",
        "while count < 5:\n",
        "    print(\"While loop:\", count)\n",
        "    count += 1\n",
        "\n",
        "# Nested loops\n",
        "for i in range(3):\n",
        "    for j in range(2):\n",
        "        print(\"Nested:\", i,j)\n"
      ],
      "metadata": {
        "id": "hSnmzGd6UM06"
      },
      "execution_count": null,
      "outputs": []
    },
    {
      "cell_type": "markdown",
      "source": [
        "Task 19: Print multiplication table for numbers 1-5 using nested loops\n",
        "Task 20: Print all prime numbers up to 50\n",
        "Task 21: Print numbers from 1-50 divisible by 3 or 5\n",
        "Task 22: Pattern printing:\n",
        "\n",
        "```\n",
        "*\n",
        "**\n",
        "***\n",
        "****\n",
        "*****\n",
        "\n",
        "```\n",
        "\n",
        "\n"
      ],
      "metadata": {
        "id": "TVnA3afQUPxL"
      }
    },
    {
      "cell_type": "code",
      "source": [
        "#Print multiplication table for numbers 1-5 using nested loops\n",
        "for i in range (1,6):\n",
        "  for j in range(1,11):\n",
        "    print(i ,\"X\" ,j ,\"=\", i*j)\n",
        "  print(\"------------\")"
      ],
      "metadata": {
        "id": "y7TzUFVWVqhR",
        "colab": {
          "base_uri": "https://localhost:8080/"
        },
        "outputId": "47700fda-016e-47ad-8711-d5cfdc79667a"
      },
      "execution_count": 72,
      "outputs": [
        {
          "output_type": "stream",
          "name": "stdout",
          "text": [
            "1 X 1 = 1\n",
            "1 X 2 = 2\n",
            "1 X 3 = 3\n",
            "1 X 4 = 4\n",
            "1 X 5 = 5\n",
            "1 X 6 = 6\n",
            "1 X 7 = 7\n",
            "1 X 8 = 8\n",
            "1 X 9 = 9\n",
            "1 X 10 = 10\n",
            "------------\n",
            "2 X 1 = 2\n",
            "2 X 2 = 4\n",
            "2 X 3 = 6\n",
            "2 X 4 = 8\n",
            "2 X 5 = 10\n",
            "2 X 6 = 12\n",
            "2 X 7 = 14\n",
            "2 X 8 = 16\n",
            "2 X 9 = 18\n",
            "2 X 10 = 20\n",
            "------------\n",
            "3 X 1 = 3\n",
            "3 X 2 = 6\n",
            "3 X 3 = 9\n",
            "3 X 4 = 12\n",
            "3 X 5 = 15\n",
            "3 X 6 = 18\n",
            "3 X 7 = 21\n",
            "3 X 8 = 24\n",
            "3 X 9 = 27\n",
            "3 X 10 = 30\n",
            "------------\n",
            "4 X 1 = 4\n",
            "4 X 2 = 8\n",
            "4 X 3 = 12\n",
            "4 X 4 = 16\n",
            "4 X 5 = 20\n",
            "4 X 6 = 24\n",
            "4 X 7 = 28\n",
            "4 X 8 = 32\n",
            "4 X 9 = 36\n",
            "4 X 10 = 40\n",
            "------------\n",
            "5 X 1 = 5\n",
            "5 X 2 = 10\n",
            "5 X 3 = 15\n",
            "5 X 4 = 20\n",
            "5 X 5 = 25\n",
            "5 X 6 = 30\n",
            "5 X 7 = 35\n",
            "5 X 8 = 40\n",
            "5 X 9 = 45\n",
            "5 X 10 = 50\n",
            "------------\n"
          ]
        }
      ]
    },
    {
      "cell_type": "code",
      "source": [
        "#Print all prime numbers up to 50\n",
        "\n",
        "for i in range(2, 51):\n",
        "    for j in range(2, i):\n",
        "        if i % j == 0:\n",
        "            break\n",
        "    else:\n",
        "          print(i, end=\" \")\n",
        "\n",
        "\n",
        "\n"
      ],
      "metadata": {
        "id": "GRbN0q0IVram",
        "colab": {
          "base_uri": "https://localhost:8080/"
        },
        "outputId": "c40cfb43-9a7e-4dd8-c229-5e5ad997e6be"
      },
      "execution_count": 82,
      "outputs": [
        {
          "output_type": "stream",
          "name": "stdout",
          "text": [
            "2 3 5 7 11 13 17 19 23 29 31 37 41 43 47 "
          ]
        }
      ]
    },
    {
      "cell_type": "code",
      "source": [
        "#Print numbers from 1-50 divisible by 3 or 5\n",
        "print (\"numbers from 1-50 divisible by 3 or 5\")\n",
        "for i in range (1,51):\n",
        "  if ((i%3==0) or (i%5==0)) :\n",
        "    print (i)\n",
        "\n"
      ],
      "metadata": {
        "id": "oT61Xrl5VrLH",
        "colab": {
          "base_uri": "https://localhost:8080/"
        },
        "outputId": "aa879555-a3e4-420b-9f6d-ab96d9700995"
      },
      "execution_count": 74,
      "outputs": [
        {
          "output_type": "stream",
          "name": "stdout",
          "text": [
            "numbers from 1-50 divisible by 3 or 5\n",
            "3\n",
            "5\n",
            "6\n",
            "9\n",
            "10\n",
            "12\n",
            "15\n",
            "18\n",
            "20\n",
            "21\n",
            "24\n",
            "25\n",
            "27\n",
            "30\n",
            "33\n",
            "35\n",
            "36\n",
            "39\n",
            "40\n",
            "42\n",
            "45\n",
            "48\n",
            "50\n"
          ]
        }
      ]
    },
    {
      "cell_type": "code",
      "source": [
        "'''Pattern printing:\n",
        "*\n",
        "**\n",
        "***\n",
        "****\n",
        "***** '''\n"
      ],
      "metadata": {
        "id": "zhXAob8gVq5K"
      },
      "execution_count": null,
      "outputs": []
    },
    {
      "cell_type": "code",
      "source": [
        "for i in range(1, 6):       # row number decides how many stars\n",
        "    for j in range(i):\n",
        "        print(\"*\", end=\" \")\n",
        "    print()\n",
        "\n"
      ],
      "metadata": {
        "colab": {
          "base_uri": "https://localhost:8080/"
        },
        "id": "El2eCmt0sEz8",
        "outputId": "601f939a-353f-4454-98e4-552339cc24c8"
      },
      "execution_count": 94,
      "outputs": [
        {
          "output_type": "stream",
          "name": "stdout",
          "text": [
            "* \n",
            "* * \n",
            "* * * \n",
            "* * * * \n",
            "* * * * * \n"
          ]
        }
      ]
    },
    {
      "cell_type": "markdown",
      "source": [
        "**7.FUNCTIONS**\n",
        "\n",
        "**Notes:**\n",
        "- Reusable blocks of code\n",
        "- Arguments: positional, keyword, default, *args, **kwargs\n",
        "- Can return multiple values\n",
        "- Recursion is very important for Amazon/Google interview prep\n"
      ],
      "metadata": {
        "id": "T9rhxziYVscJ"
      }
    },
    {
      "cell_type": "code",
      "source": [
        "def greet(name=\"Guest\"):\n",
        "    print(f\"Hello, {name}\")\n",
        "\n",
        "greet(\"Aashika\")\n",
        "greet()\n",
        "\n",
        "def add_mul(x,y):\n",
        "    return x+y, x*y\n",
        "\n",
        "sum_, prod = add_mul(3,4)\n",
        "print(sum_, prod)\n",
        "\n",
        "def foo(*args, **kwargs):\n",
        "    print(\"args:\", args)\n",
        "    print(\"kwargs:\", kwargs)\n",
        "\n",
        "foo(1,2,3,a=10,b=20)\n"
      ],
      "metadata": {
        "id": "TTpQvAG7WAEs"
      },
      "execution_count": null,
      "outputs": []
    },
    {
      "cell_type": "markdown",
      "source": [
        "Task 23: Factorial of a number using recursion\n",
        "Task 24: Check if a list is sorted\n",
        "Task 25: Function to find max and min in a list\n",
        "Task 26: Function to merge two dictionaries (sum values for same keys)\n",
        "Task 27: Function to count frequency of characters in a string\n"
      ],
      "metadata": {
        "id": "JMDlcShEWBCy"
      }
    },
    {
      "cell_type": "code",
      "source": [
        "#Factorial of a number using recursion\n",
        "def factorial (n):\n",
        "  if n == 1:\n",
        "    return 1\n",
        "  else:\n",
        "    return n *factorial(n-1)\n",
        "\n",
        "factorial(5)\n"
      ],
      "metadata": {
        "id": "5vK3BJi-WOnD",
        "colab": {
          "base_uri": "https://localhost:8080/"
        },
        "outputId": "95ef2f37-0dfa-4688-c3e3-1cbd8bac7f41"
      },
      "execution_count": 2,
      "outputs": [
        {
          "output_type": "execute_result",
          "data": {
            "text/plain": [
              "120"
            ]
          },
          "metadata": {},
          "execution_count": 2
        }
      ]
    },
    {
      "cell_type": "code",
      "source": [
        "#Check if a list is sorted\n",
        "def sorting( x ):\n",
        "  if list_ip == sorted(list_ip):\n",
        "    print(\"The list is sorted\")\n",
        "  else:\n",
        "    print(\"The list is not sorted\")\n",
        "\n",
        "\n",
        "\n",
        "list_ip = [\"aash\",\"sheik\",\"allah\"]\n",
        "sorting(list_ip)\n",
        "\n"
      ],
      "metadata": {
        "id": "xZHEOaZOWPiB",
        "colab": {
          "base_uri": "https://localhost:8080/"
        },
        "outputId": "fc1eba6b-4853-4758-9ec0-7f2653576887"
      },
      "execution_count": 109,
      "outputs": [
        {
          "output_type": "stream",
          "name": "stdout",
          "text": [
            "The list is not sorted\n"
          ]
        }
      ]
    },
    {
      "cell_type": "code",
      "source": [
        "#Function to find max and min in a list\n",
        "\n",
        "def find_max(lst):\n",
        "    maximum = lst[0]\n",
        "    for i in lst:\n",
        "        if i > maximum:\n",
        "            maximum = i\n",
        "    return maximum\n",
        "\n",
        "def find_min(lst):\n",
        "    minimum = lst[0]\n",
        "    for j in lst:\n",
        "        if j < minimum:\n",
        "            minimum = j\n",
        "    return minimum\n",
        "\n",
        "list_ip = [1, 2, 3, 4]\n",
        "print(\"Max:\", find_max(list_ip))\n",
        "print(\"Min:\", find_min(list_ip))\n",
        "\n"
      ],
      "metadata": {
        "id": "nv8ovhGGWPUx",
        "colab": {
          "base_uri": "https://localhost:8080/"
        },
        "outputId": "03e5578c-a96d-4ca5-9aa4-8af33955a5fd"
      },
      "execution_count": 6,
      "outputs": [
        {
          "output_type": "stream",
          "name": "stdout",
          "text": [
            "Max: 4\n",
            "Min: 1\n"
          ]
        }
      ]
    },
    {
      "cell_type": "code",
      "source": [
        "#Function to merge two dictionaries (sum values for same keys)\n",
        "def merge_dicts(dict1, dict2):\n",
        "    merged = {}\n",
        "\n",
        "    for key in dict1:\n",
        "        merged[key] = dict1[key]\n",
        "\n",
        "\n",
        "    for key in dict2:\n",
        "        if key in merged:\n",
        "            merged[key] = merged[key] + dict2[key]\n",
        "        else:\n",
        "            merged[key] = dict2[key]\n",
        "\n",
        "    return merged\n",
        "\n",
        "dict_a = {'a': 10, 'b': 20}\n",
        "dict_b = {'b': 5, 'c': 15}\n",
        "\n",
        "result = merge_dicts(dict_a, dict_b)\n",
        "print(result)\n"
      ],
      "metadata": {
        "id": "pfXZlb3VWO-q",
        "colab": {
          "base_uri": "https://localhost:8080/"
        },
        "outputId": "db15ba81-7931-47cd-c489-d1e67af912b4"
      },
      "execution_count": 3,
      "outputs": [
        {
          "output_type": "stream",
          "name": "stdout",
          "text": [
            "{'a': 10, 'b': 25, 'c': 15}\n"
          ]
        }
      ]
    },
    {
      "cell_type": "code",
      "source": [
        "#Function to count frequency of characters in a string\n",
        "\n",
        "def char_frequency(text):\n",
        "    freq = {}\n",
        "\n",
        "    for i in text:\n",
        "        if i in freq:\n",
        "            freq[i] = freq[i] + 1  # increase count if already exists\n",
        "        else:\n",
        "            freq[i] = 1  # first time seeing the character\n",
        "\n",
        "    return freq\n",
        "\n",
        "# Example usage\n",
        "string_input = \"aashika\"\n",
        "result = char_frequency(string_input)\n",
        "print(result)\n"
      ],
      "metadata": {
        "id": "dAdb8Q-rZIIJ",
        "colab": {
          "base_uri": "https://localhost:8080/"
        },
        "outputId": "2ada6fb4-3b1f-4c45-d472-f165b0996ef0"
      },
      "execution_count": 4,
      "outputs": [
        {
          "output_type": "stream",
          "name": "stdout",
          "text": [
            "{'a': 3, 's': 1, 'h': 1, 'i': 1, 'k': 1}\n"
          ]
        }
      ]
    },
    {
      "cell_type": "markdown",
      "source": [
        "**8.BONUS – INTERVIEW PATTERNS**\n",
        "\n",
        "**Notes:**\n",
        "- Pattern printing is common in interviews\n",
        "- Examples:\n",
        "```\n",
        "*\n",
        "**\n",
        "***\n",
        "****\n",
        "*****\n",
        "```\n",
        "- Nested loops required\n",
        "- Understand indexes carefully\n",
        "\n",
        "Task 28: Print reverse pattern:\n",
        "```\n",
        "*****\n",
        "****\n",
        "***\n",
        "**\n",
        "*\n",
        "```\n",
        "Task 29: Pyramid pattern:\n",
        "\n",
        "\n",
        "```\n",
        "     *\n",
        "    ***\n",
        "   *****\n",
        "```\n",
        "\n",
        "Task 30: Given a list of numbers, print all pairs whose sum is even\n",
        "Task 31: Given a string, print all substrings\n",
        "\n"
      ],
      "metadata": {
        "id": "16y8467_WQhc"
      }
    },
    {
      "cell_type": "code",
      "source": [
        "'''Print reverse pattern:\n",
        "*****\n",
        "****\n",
        "***\n",
        "**\n",
        "* '''\n"
      ],
      "metadata": {
        "id": "Wb2Ea8dbYpZU"
      },
      "execution_count": null,
      "outputs": []
    },
    {
      "cell_type": "code",
      "source": [
        "for i in range (5,0,-1):\n",
        "  for j in range (i):\n",
        "    print(\"*\",end = \" \")\n",
        "  print()\n",
        "\n"
      ],
      "metadata": {
        "colab": {
          "base_uri": "https://localhost:8080/"
        },
        "id": "5sFpHD1Jsg--",
        "outputId": "826cf979-5f00-487c-eb81-ae6e1cb7675b"
      },
      "execution_count": 99,
      "outputs": [
        {
          "output_type": "stream",
          "name": "stdout",
          "text": [
            "* * * * * \n",
            "* * * * \n",
            "* * * \n",
            "* * \n",
            "* \n"
          ]
        }
      ]
    },
    {
      "cell_type": "code",
      "source": [
        "'''Pyramid pattern:\n",
        "     *\n",
        "    ***\n",
        "   ***** '''"
      ],
      "metadata": {
        "id": "YmAsJVGNYpRn"
      },
      "execution_count": null,
      "outputs": []
    },
    {
      "cell_type": "code",
      "source": [
        "for i in range (1,4):\n",
        "  print(\" \" * (3-i),end = \"\")\n",
        "  print(\"*\" * (2*i - 1))"
      ],
      "metadata": {
        "colab": {
          "base_uri": "https://localhost:8080/"
        },
        "id": "cu69ZHRywJTF",
        "outputId": "48958379-d71f-4190-ebc6-a2d13705b5a4"
      },
      "execution_count": 102,
      "outputs": [
        {
          "output_type": "stream",
          "name": "stdout",
          "text": [
            "  *\n",
            " ***\n",
            "*****\n"
          ]
        }
      ]
    },
    {
      "cell_type": "code",
      "source": [
        "#Given a list of numbers, print all pairs whose sum is even\n",
        "numbers = [1, 2, 3, 4, 5]\n",
        "\n",
        "for i in range(len(numbers)):\n",
        "    for j in range(i+1, len(numbers)):\n",
        "        if (numbers[i] + numbers[j]) % 2 == 0:\n",
        "            print(numbers[i], numbers[j])\n"
      ],
      "metadata": {
        "id": "ouZnARKgYpKJ",
        "colab": {
          "base_uri": "https://localhost:8080/"
        },
        "outputId": "38e0477c-2eac-42a7-d1a4-2c2a9b6cdb5f"
      },
      "execution_count": 7,
      "outputs": [
        {
          "output_type": "stream",
          "name": "stdout",
          "text": [
            "1 3\n",
            "1 5\n",
            "2 4\n",
            "3 5\n"
          ]
        }
      ]
    },
    {
      "cell_type": "code",
      "source": [
        "#Given a string, print all substrings\n",
        "string = \"abc\"\n",
        "\n",
        "for i in range(len(string)):\n",
        "    for j in range(i+1, len(string)+1):\n",
        "        print(string[i:j])\n"
      ],
      "metadata": {
        "id": "uZzRcPK-YpB1",
        "colab": {
          "base_uri": "https://localhost:8080/"
        },
        "outputId": "f0b54fee-5722-4d2c-ec40-cff3254c897e"
      },
      "execution_count": 8,
      "outputs": [
        {
          "output_type": "stream",
          "name": "stdout",
          "text": [
            "a\n",
            "ab\n",
            "abc\n",
            "b\n",
            "bc\n",
            "c\n"
          ]
        }
      ]
    },
    {
      "cell_type": "markdown",
      "source": [
        "**Regex Introduction – Short Teaser**\n",
        "Regex allows pattern matching in strings\n",
        "import the module"
      ],
      "metadata": {
        "id": "c6g4jobPArVv"
      }
    },
    {
      "cell_type": "code",
      "source": [
        "\n",
        "import re\n",
        "\n",
        "text = \"My email is aashika@example.com\"\n",
        "# Simple search for a word 'email'\n",
        "match = re.search(r\"email\", text)\n",
        "\n",
        "if match:\n",
        "    print(\"Found 'email' at position:\", match.start())\n",
        "else:\n",
        "    print(\"No match found\")\n",
        "\n",
        "\n"
      ],
      "metadata": {
        "id": "AosfgWc_ANSr"
      },
      "execution_count": null,
      "outputs": []
    },
    {
      "cell_type": "markdown",
      "source": [
        "Task :Try searching for the word \"Aashika\" in the same text"
      ],
      "metadata": {
        "id": "JwbpV19_ATN7"
      }
    },
    {
      "cell_type": "code",
      "source": [
        "import re\n",
        "text = \"Hi my name is Ms.Aashika Sheik\"\n",
        "#match = re.search (r\"Aashika\",text)\n",
        "x = re.search (r\"Aashika\",text)\n",
        "if x:\n",
        "  print(\"Aashika is present\")\n",
        "else:\n",
        "  print (\"No aashika is not present\")"
      ],
      "metadata": {
        "colab": {
          "base_uri": "https://localhost:8080/"
        },
        "id": "H7h4WUT7zyuC",
        "outputId": "66c71818-f534-41bc-d83d-f4270fa171c2"
      },
      "execution_count": 111,
      "outputs": [
        {
          "output_type": "stream",
          "name": "stdout",
          "text": [
            "Aashika is present\n"
          ]
        }
      ]
    }
  ]
}