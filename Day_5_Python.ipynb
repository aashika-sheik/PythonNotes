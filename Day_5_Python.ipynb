{
  "nbformat": 4,
  "nbformat_minor": 0,
  "metadata": {
    "colab": {
      "provenance": []
    },
    "kernelspec": {
      "name": "python3",
      "display_name": "Python 3"
    },
    "language_info": {
      "name": "python"
    }
  },
  "cells": [
    {
      "cell_type": "markdown",
      "source": [
        "**Day 5: File Handling & Error Handling**\n",
        "\n",
        " **1. Introduction to File Handling**\n",
        "\n",
        "In programming, data stored in memory disappears when the program stops. To **store data permanently**, we use files.  \n",
        "\n",
        "Python provides built-in support for **file handling**.  \n",
        "The main steps are:  \n",
        "\n",
        "1. **Open** a file (`open()`)\n",
        "2. **Read / Write** data  \n",
        "3. **Close** the file (`close()`)  \n",
        "\n",
        "### **File Modes**\n",
        "- `\"r\"` → Read (default). Error if file does not exist.  \n",
        "- `\"w\"` → Write. Creates a new file or overwrites the old one.  \n",
        "- `\"a\"` → Append. Adds data to the end of file.  \n",
        "- `\"x\"` → Create. Creates a new file. Error if file exists.  \n",
        "- `\"t\"` → Text mode (default).  \n",
        "- `\"b\"` → Binary mode (for images, videos, etc).  \n",
        "\n",
        "\n"
      ],
      "metadata": {
        "id": "-_VAmubO9win"
      }
    },
    {
      "cell_type": "markdown",
      "source": [
        "**2. Opening and Reading Files**\n",
        "\n",
        "Python uses the `open()` function:  \n",
        "`open(\"filename\", \"mode\")`\n",
        "\n",
        "```python\n",
        "# Example: Reading a file\n",
        "f = open(\"sample.txt\", \"r\")   # open file in read mode\n",
        "content = f.read()\n",
        "print(content)\n",
        "f.close()   # always close the file"
      ],
      "metadata": {
        "id": "ZrYGzJ6998Y3"
      }
    },
    {
      "cell_type": "markdown",
      "source": [
        "**Reading Methods**\n",
        "\n",
        ".read() → Reads entire file\n",
        "\n",
        ".readline() → Reads one line\n",
        "\n",
        ".readlines() → Reads all lines as list"
      ],
      "metadata": {
        "id": "_gIwO414-AgK"
      }
    },
    {
      "cell_type": "code",
      "source": [
        "# Create sample.txt in Colab\n",
        "with open(\"sample.txt\", \"w\") as f:\n",
        "    f.write(\"This is the first line\\n\")\n",
        "    f.write(\"This is the second line\\n\")\n",
        "    f.write(\"This is the third line\\n\")\n"
      ],
      "metadata": {
        "id": "vhm8GAFKntYB"
      },
      "execution_count": null,
      "outputs": []
    },
    {
      "cell_type": "code",
      "execution_count": null,
      "metadata": {
        "colab": {
          "base_uri": "https://localhost:8080/"
        },
        "id": "QpEtj7lB9snF",
        "outputId": "72cf3d2e-4a46-45fd-cf1f-6055545aea8d"
      },
      "outputs": [
        {
          "output_type": "stream",
          "name": "stdout",
          "text": [
            "This is the first line\n",
            "\n",
            "['This is the second line\\n', 'This is the third line\\n']\n"
          ]
        }
      ],
      "source": [
        "with open(\"sample.txt\", \"r\") as f:\n",
        "    print(f.readline())   # reads first line\n",
        "    print(f.readlines())  # reads all lines as list\n"
      ]
    },
    {
      "cell_type": "markdown",
      "source": [
        "Task 1: Create a file data.txt manually. Write a program to read and display its contents."
      ],
      "metadata": {
        "id": "_sNEtXka-IHR"
      }
    },
    {
      "cell_type": "code",
      "source": [
        "#Create a file data.txt manually. Write a program to read and display its contents.\n",
        "\n",
        "with open (\"data.txt\",\"w\") as f :\n",
        "\n",
        "      a = 5\n",
        "      b = 10"
      ],
      "metadata": {
        "id": "NkU_56X0-K5W"
      },
      "execution_count": null,
      "outputs": []
    },
    {
      "cell_type": "code",
      "source": [
        "\n",
        "with open (\"data.txt\",\"r\") as f :\n",
        "  print(a+b)\n"
      ],
      "metadata": {
        "colab": {
          "base_uri": "https://localhost:8080/"
        },
        "id": "bfRrB-I6oxD1",
        "outputId": "c7573c32-6cf5-4c3c-a378-f8462c051218"
      },
      "execution_count": null,
      "outputs": [
        {
          "output_type": "stream",
          "name": "stdout",
          "text": [
            "15\n"
          ]
        }
      ]
    },
    {
      "cell_type": "markdown",
      "source": [
        "**3. Writing and Appending to Files**\n",
        "\n",
        "\n",
        "```\n",
        "# Writing (overwrite)\n",
        "with open(\"sample.txt\", \"w\") as f:\n",
        "    f.write(\"Hello, this is a new file.\\n\")\n",
        "    f.write(\"Second line.\")\n",
        "```\n",
        "\n",
        "\n",
        "```\n",
        "# Appending\n",
        "with open(\"sample.txt\", \"a\") as f:\n",
        "    f.write(\"\\nAppended line at the end.\")\n",
        "```\n",
        "\n",
        "\n",
        "\n"
      ],
      "metadata": {
        "id": "b4edGmao-RSg"
      }
    },
    {
      "cell_type": "markdown",
      "source": [
        "Task 2: Write a program that asks for user’s name and appends it to a file names.txt."
      ],
      "metadata": {
        "id": "G8GbZWJa-eSo"
      }
    },
    {
      "cell_type": "code",
      "source": [
        "#Write a program that asks for user’s name and appends it to a file names.txt.\n",
        "\n",
        "with open (\"names.txt\",\"a\") as f :\n",
        "  name = input(\"Enter you're name\")\n",
        "  f.write(name)\n",
        "  print(f\"HI {name}\")"
      ],
      "metadata": {
        "colab": {
          "base_uri": "https://localhost:8080/"
        },
        "id": "6CXIpMdD-fM6",
        "outputId": "6aca1bdc-9d09-4eb7-c135-f42f2e894696"
      },
      "execution_count": null,
      "outputs": [
        {
          "output_type": "stream",
          "name": "stdout",
          "text": [
            "Enter you're nameaashika\n",
            "HI aashika\n"
          ]
        }
      ]
    },
    {
      "cell_type": "markdown",
      "source": [
        "**4. Best Practice: with Statement**\n",
        "\n",
        "The with statement ensures the file closes automatically.\n",
        "\n",
        "\n",
        "\n",
        "```\n",
        "with open(\"sample.txt\", \"r\") as f:\n",
        "    for line in f:\n",
        "        print(line.strip())\n",
        "```\n",
        "\n",
        "\n",
        "\n",
        "\n",
        "\n"
      ],
      "metadata": {
        "id": "KLN2mykx-mOb"
      }
    },
    {
      "cell_type": "markdown",
      "source": [
        "\n",
        "Task 3: Write a program that prints all lines of sample.txt one by one."
      ],
      "metadata": {
        "id": "nlnKrrqI-s-n"
      }
    },
    {
      "cell_type": "code",
      "source": [
        "#Write a program that prints all lines of sample.txt one by one.\n",
        "with open (\"sample.txt\",\"w\") as f:\n",
        "  f.write(\"The sun slowly dipped below the horizon, painting the sky with a vibrant display of colors.\\n\")\n",
        "  f.write(\" A soft, golden light first appeared, spreading like a blush across the clouds and the surface of the tranquil lake below.\\n \")\n",
        "  f.write(\"Soon, streaks of fiery orange and deep rose joined the golden hue, creating a breathtaking, ever-changing canvas.\\n \")\n",
        "  f.write(\"As the last sliver of sunlight disappeared, the sky transformed into a majestic spectacle of purples and deep blues, a perfect end to the day.\\n\")"
      ],
      "metadata": {
        "id": "R6-9VdFu-uB6"
      },
      "execution_count": null,
      "outputs": []
    },
    {
      "cell_type": "code",
      "source": [
        "with open (\"sample.txt\",\"r\") as f :\n",
        "    for line in f:\n",
        "        print(line.strip())"
      ],
      "metadata": {
        "colab": {
          "base_uri": "https://localhost:8080/"
        },
        "id": "YsMdhGx5ssuk",
        "outputId": "95f09296-3b4b-4492-d28a-eff558455c3c"
      },
      "execution_count": null,
      "outputs": [
        {
          "output_type": "stream",
          "name": "stdout",
          "text": [
            "The sun slowly dipped below the horizon, painting the sky with a vibrant display of colors.\n",
            "A soft, golden light first appeared, spreading like a blush across the clouds and the surface of the tranquil lake below.\n",
            "Soon, streaks of fiery orange and deep rose joined the golden hue, creating a breathtaking, ever-changing canvas.\n",
            "As the last sliver of sunlight disappeared, the sky transformed into a majestic spectacle of purples and deep blues, a perfect end to the day\n"
          ]
        }
      ]
    },
    {
      "cell_type": "markdown",
      "source": [
        "**5. Error Handling (Exceptions)**\n",
        "\n",
        "Programs can crash when unexpected things happen (missing file, wrong input).\n",
        "Python handles errors using try-except.\n",
        "\n",
        "```\n",
        "try:\n",
        "    f = open(\"missing.txt\", \"r\")\n",
        "    print(f.read())\n",
        "except FileNotFoundError:\n",
        "    print(\"File not found!\")\n",
        "finally:\n",
        "    print(\"Execution finished.\")\n",
        "```\n",
        "\n",
        "**try** → Code that might cause error.\n",
        "\n",
        "**except** → Handle the error gracefully.\n",
        "\n",
        "**finally** → Runs always, even if error occurs.\n"
      ],
      "metadata": {
        "id": "fD3is7e3-2eN"
      }
    },
    {
      "cell_type": "markdown",
      "source": [
        "\n",
        "Task 4: Write a program to open a user-given filename. If the file does not exist, show “File not found!”.\n",
        "\n"
      ],
      "metadata": {
        "id": "7Yo-4atG_W3A"
      }
    },
    {
      "cell_type": "code",
      "source": [
        "# Write a program to open a user-given filename. If the file does not exist, show “File not found!”.\n",
        "try:\n",
        "  f = open (\"aash.txt\",\"r\")\n",
        "  print(f.read())\n",
        "except FileNotFoundError:\n",
        "  print(\"File Not Found Error\")\n",
        "finally:\n",
        "  print(\"Execution finished!\")\n"
      ],
      "metadata": {
        "colab": {
          "base_uri": "https://localhost:8080/"
        },
        "id": "8Omc_u0K_Zqo",
        "outputId": "8ad1cd5c-01ac-4ad0-e54b-71b936fe17b3"
      },
      "execution_count": null,
      "outputs": [
        {
          "output_type": "stream",
          "name": "stdout",
          "text": [
            "File Not Found Error\n",
            "Execution finished!\n"
          ]
        }
      ]
    },
    {
      "cell_type": "markdown",
      "source": [
        "**6. Raising Exceptions**\n",
        "\n",
        "We can raise our own errors using raise.\n",
        "\n",
        "\n",
        "\n",
        "```\n",
        "def divide(a, b):\n",
        "    if b == 0:\n",
        "        raise ValueError(\"Division by zero not allowed!\")\n",
        "    return a / b\n",
        "\n",
        "print(divide(10, 2))\n",
        "print(divide(10, 0))  # raises error\n",
        "```\n",
        "\n",
        "\n",
        "\n",
        "\n",
        "\n"
      ],
      "metadata": {
        "id": "eYSFV9CP_Z-x"
      }
    },
    {
      "cell_type": "markdown",
      "source": [
        "\n",
        "Task 5: Write a function that accepts age. If age < 0, raise an exception."
      ],
      "metadata": {
        "id": "k9QPpifk_kP8"
      }
    },
    {
      "cell_type": "code",
      "source": [
        "#Write a function that accepts age. If age < 0, raise an exception.\n",
        "\n",
        "def age_check (age) :\n",
        "  if age < 0:\n",
        "    raise ValueError(\"Invalid Age\")\n",
        "  else:\n",
        "    print(f\"You're age is {age}\")\n",
        "\n",
        "try:\n",
        "  age = int(input(\"Enter the age : \"))\n",
        "  age_check (age)\n",
        "except ValueError as e:\n",
        "  print(\"Error: \",e)\n",
        "\n",
        "\n",
        "\n",
        "\n"
      ],
      "metadata": {
        "colab": {
          "base_uri": "https://localhost:8080/"
        },
        "id": "MwzcGUWT_lCy",
        "outputId": "4d65c354-8a4d-4fe0-f907-5919658c82dd"
      },
      "execution_count": null,
      "outputs": [
        {
          "output_type": "stream",
          "name": "stdout",
          "text": [
            "Enter the age : -1\n",
            "Error:  Invalid Age\n"
          ]
        }
      ]
    }
  ]
}