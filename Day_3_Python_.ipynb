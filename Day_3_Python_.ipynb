{
  "nbformat": 4,
  "nbformat_minor": 0,
  "metadata": {
    "colab": {
      "provenance": []
    },
    "kernelspec": {
      "name": "python3",
      "display_name": "Python 3"
    },
    "language_info": {
      "name": "python"
    }
  },
  "cells": [
    {
      "cell_type": "markdown",
      "source": [
        "**Day 3: Python Notes – Functions & Modules**\n",
        "\n",
        "\n",
        "This notebook covers detailed explanations, examples, and practice tasks for functions, recursion, built-in functions, and Python modules. It is designed for deep understanding and interview-level practice.\n",
        "\n"
      ],
      "metadata": {
        "id": "vRQ2-T3Mh7YK"
      }
    },
    {
      "cell_type": "markdown",
      "source": [
        "**1.What are Functions in Python?**\n",
        "\n",
        "A function is a reusable block of code that performs a specific task.\n",
        "Instead of repeating code multiple times, we define a function once and call it whenever needed.\n",
        "\n",
        "**Advantages of Functions:**\n",
        "\n",
        "Code reusability (define once, use many times)\n",
        "\n",
        "Code organization (modular, easy to debug)\n",
        "\n",
        "Scalability (large projects rely heavily on functions)\n",
        "\n",
        "Abstraction (hide complex logic inside a function)\n",
        "\n",
        "\n",
        "**Syntax:**\n",
        "```\n",
        "def function_name(parameters):\n",
        "    \"\"\"optional docstring - explains the function\"\"\"\n",
        "    # body\n",
        "    return value\n",
        "\n",
        "```\n",
        "\n"
      ],
      "metadata": {
        "id": "xjg1zuC8nItJ"
      }
    },
    {
      "cell_type": "code",
      "execution_count": 4,
      "metadata": {
        "colab": {
          "base_uri": "https://localhost:8080/"
        },
        "id": "tqc_yqrbhwt2",
        "outputId": "0846c4f5-934d-47e3-b889-10a6652c9102"
      },
      "outputs": [
        {
          "output_type": "stream",
          "name": "stdout",
          "text": [
            "Hello, welcome to Python functions!\n"
          ]
        }
      ],
      "source": [
        "#Example 1: Function without arguments\n",
        "def say_hello():\n",
        "    print(\"Hello, welcome to Python functions!\")\n",
        "\n",
        "say_hello()\n"
      ]
    },
    {
      "cell_type": "code",
      "source": [
        "#Example 2: Function with arguments\n",
        "def greet(name):\n",
        "    print(f\"Hello {name}, have a great day!\")\n",
        "\n",
        "greet(\"Aashika\")\n",
        "greet(\"Sheik\")\n"
      ],
      "metadata": {
        "colab": {
          "base_uri": "https://localhost:8080/"
        },
        "id": "XchJevkCiTZ_",
        "outputId": "5505718a-79ab-45ac-a2fa-165a9fea61d1"
      },
      "execution_count": 5,
      "outputs": [
        {
          "output_type": "stream",
          "name": "stdout",
          "text": [
            "Hello Aashika, have a great day!\n",
            "Hello Sheik, have a great day!\n"
          ]
        }
      ]
    },
    {
      "cell_type": "code",
      "source": [
        "#Example 3: Function with return value\n",
        "def square(x):\n",
        "    return x**2\n",
        "\n",
        "result = square(5)\n",
        "print(\"Square of 5 is:\", result)\n"
      ],
      "metadata": {
        "colab": {
          "base_uri": "https://localhost:8080/"
        },
        "id": "0l3FWbBKign3",
        "outputId": "e40b139d-175d-4c45-8069-38cab052f890"
      },
      "execution_count": 6,
      "outputs": [
        {
          "output_type": "stream",
          "name": "stdout",
          "text": [
            "Square of 5 is: 25\n"
          ]
        }
      ]
    },
    {
      "cell_type": "markdown",
      "source": [
        "Task 1: Write a function that takes your name and prints \"Hello, <name>, welcome!\"\n",
        "\n",
        "Task 2: Write a function that takes 2 numbers and returns their average.\n"
      ],
      "metadata": {
        "id": "JRgFbp8kimev"
      }
    },
    {
      "cell_type": "code",
      "source": [
        "# Task 1: Write a function that takes your name and prints \"Hello, <name>, welcome!\"\n",
        "def greet (name):\n",
        "  print(f\"Hello, {name} ,welcome!\")\n",
        "name = input(\"Enter you're name : \")\n",
        "greet(name)\n"
      ],
      "metadata": {
        "colab": {
          "base_uri": "https://localhost:8080/"
        },
        "id": "HoQLvrH0io7Y",
        "outputId": "16f8dba3-4172-42a7-a348-75bedba4a035"
      },
      "execution_count": 7,
      "outputs": [
        {
          "output_type": "stream",
          "name": "stdout",
          "text": [
            "Enter you're name : aashika\n",
            "Hello, aashika ,welcome!\n"
          ]
        }
      ]
    },
    {
      "cell_type": "code",
      "source": [
        "# Task 2: Write a function that takes 2 numbers and returns their average.\n",
        "def average (x,y):\n",
        "  formula = (x+y)/2\n",
        "  return formula\n",
        "x,y = map(int,input(\"Enter the two number for finding the average : \").split())\n",
        "average(x,y)"
      ],
      "metadata": {
        "colab": {
          "base_uri": "https://localhost:8080/"
        },
        "id": "EEOqXc-1ipQx",
        "outputId": "02137b70-d468-42f3-a045-984e02518e71"
      },
      "execution_count": 10,
      "outputs": [
        {
          "name": "stdout",
          "output_type": "stream",
          "text": [
            "Enter the two number for finding the average : 2 4\n"
          ]
        },
        {
          "output_type": "execute_result",
          "data": {
            "text/plain": [
              "3.0"
            ]
          },
          "metadata": {},
          "execution_count": 10
        }
      ]
    },
    {
      "cell_type": "markdown",
      "source": [
        "**Built-in Functions vs User-defined Functions**\n",
        "\n",
        "**Built-in Functions**\n",
        "\n",
        "Predefined by Python.\n",
        "\n",
        "Examples: len(), max(), sum(), print().\n",
        "\n",
        "\n",
        "\n",
        "```\n",
        "nums = [1, 5, 7, 3, 9]\n",
        "print(\"Length:\", len(nums))  \n",
        "print(\"Maximum:\", max(nums))  \n",
        "print(\"Sum:\", sum(nums))\n",
        "\n",
        "```\n",
        "\n"
      ],
      "metadata": {
        "id": "sXJK_9sdixLn"
      }
    },
    {
      "cell_type": "markdown",
      "source": [
        "**User-defined Functions**\n",
        "\n",
        "Created by the programmer.\n",
        "\n",
        "\n",
        "\n",
        "```\n",
        "def cube(n):\n",
        "    return n**3\n",
        "\n",
        "print(\"Cube of 4:\", cube(4))\n",
        "\n",
        "```\n",
        "\n"
      ],
      "metadata": {
        "id": "EJkDW-TSlHKe"
      }
    },
    {
      "cell_type": "markdown",
      "source": [
        "Task 1: Use built-in functions to find min, max, and sum of a list.\n",
        "\n",
        "Task 2: Write a user-defined function to check if a number is even or odd.\n"
      ],
      "metadata": {
        "id": "YAdHrVESlxjH"
      }
    },
    {
      "cell_type": "code",
      "source": [
        "#Use built-in functions to find min, max, and sum of a list.\n",
        "def funct (user_list):\n",
        "  max_list = max(user_list)\n",
        "  min_list = min(user_list)\n",
        "  sum_list = sum(user_list)\n",
        "  return max_list,min_list,sum_list\n",
        "\n",
        "user_list = list(map(int, input(\"Enter the numbers separated by spaces: \").split()))\n",
        "max_val, min_val, total = funct(user_list)\n",
        "print(\"Maximum:\", max_val)\n",
        "print(\"Minimum:\", min_val)\n",
        "print(\"Sum:\", total)\n",
        "\n"
      ],
      "metadata": {
        "colab": {
          "base_uri": "https://localhost:8080/"
        },
        "id": "gtIf5bkKtQp3",
        "outputId": "3f5084ed-f1c3-4846-e9ca-276a7a85c1a1"
      },
      "execution_count": 14,
      "outputs": [
        {
          "output_type": "stream",
          "name": "stdout",
          "text": [
            "Enter the numbers separated by spaces: 2 3 4\n",
            "Maximum: 4\n",
            "Minimum: 2\n",
            "Sum: 9\n"
          ]
        }
      ]
    },
    {
      "cell_type": "code",
      "source": [
        "# Write a user-defined function to check if a number is even or odd.\n",
        "def checker (num):\n",
        "  if num % 2 == 0 :\n",
        "    print (f\"The number - {num} is even\")\n",
        "  else:\n",
        "    print(f\"The number - {num} is odd\")\n",
        "num = int(input(\"Enter the Number - \"))\n",
        "checker(num)"
      ],
      "metadata": {
        "colab": {
          "base_uri": "https://localhost:8080/"
        },
        "id": "1Qs00BgttQd3",
        "outputId": "23ffd327-faec-4833-8642-2d2e6dcb5f4d"
      },
      "execution_count": 17,
      "outputs": [
        {
          "output_type": "stream",
          "name": "stdout",
          "text": [
            "Enter the Number - 4\n",
            "The number - 4 is even\n"
          ]
        }
      ]
    },
    {
      "cell_type": "markdown",
      "source": [
        "**3. Lambda (Anonymous) Functions**\n",
        "\n",
        "A lambda is a one-line anonymous function (without def).\n",
        "Best used for short, simple operations."
      ],
      "metadata": {
        "id": "jDAhJAvtmAsH"
      }
    },
    {
      "cell_type": "code",
      "source": [
        "#Example 1: Normal vs Lambda\n",
        "# Normal function\n",
        "def add(a, b):\n",
        "    return a + b\n",
        "\n",
        "# Lambda function\n",
        "add_lambda = lambda a, b: a + b\n",
        "print(add_lambda(5, 3))  # 8\n"
      ],
      "metadata": {
        "colab": {
          "base_uri": "https://localhost:8080/"
        },
        "id": "HqTLaEiflrwt",
        "outputId": "d506a4b9-e8ab-45cd-8d78-68ca81df3093"
      },
      "execution_count": 18,
      "outputs": [
        {
          "output_type": "stream",
          "name": "stdout",
          "text": [
            "8\n"
          ]
        }
      ]
    },
    {
      "cell_type": "code",
      "source": [
        "#Example 2: Conditional Lambda\n",
        "is_even = lambda x: \"Even\" if x % 2 == 0 else \"Odd\"\n",
        "print(is_even(7))  # Odd"
      ],
      "metadata": {
        "colab": {
          "base_uri": "https://localhost:8080/"
        },
        "id": "uxdl9r9lmOhO",
        "outputId": "d4083e16-11ca-4f84-c405-74830c0dbd44"
      },
      "execution_count": 19,
      "outputs": [
        {
          "output_type": "stream",
          "name": "stdout",
          "text": [
            "Odd\n"
          ]
        }
      ]
    },
    {
      "cell_type": "code",
      "source": [
        "#Example 3: Using lambda with map() and filter()\n",
        "nums = [1, 2, 3, 4, 5]\n",
        "squares = list(map(lambda x: x**2, nums))\n",
        "evens = list(filter(lambda x: x % 2 == 0, nums))\n",
        "\n",
        "print(\"Squares:\", squares)\n",
        "print(\"Evens:\", evens)"
      ],
      "metadata": {
        "colab": {
          "base_uri": "https://localhost:8080/"
        },
        "id": "WvR3lk81mS5G",
        "outputId": "6b134397-0c28-451b-d21c-38a3d217f89f"
      },
      "execution_count": 20,
      "outputs": [
        {
          "output_type": "stream",
          "name": "stdout",
          "text": [
            "Squares: [1, 4, 9, 16, 25]\n",
            "Evens: [2, 4]\n"
          ]
        }
      ]
    },
    {
      "cell_type": "markdown",
      "source": [
        "Task 1: Write a lambda function to calculate cube of a number.\n",
        "\n",
        "Task 2: Use map() with lambda to convert a list of Celsius values to Fahrenheit.\n"
      ],
      "metadata": {
        "id": "c7J2OtBpmWTn"
      }
    },
    {
      "cell_type": "code",
      "source": [
        "#Write a lambda function to calculate cube of a number.\n",
        "num = int(input(\"Enter the number \"))\n",
        "form = lambda num:num**3\n",
        "print(form(num))\n"
      ],
      "metadata": {
        "colab": {
          "base_uri": "https://localhost:8080/"
        },
        "id": "sqTxCn2YxFJ3",
        "outputId": "1d7b3f91-3200-483c-9989-10696181bf97"
      },
      "execution_count": 22,
      "outputs": [
        {
          "output_type": "stream",
          "name": "stdout",
          "text": [
            "Enter the number 2\n",
            "8\n"
          ]
        }
      ]
    },
    {
      "cell_type": "code",
      "source": [
        "#Use map() with lambda to convert a list of Celsius values to Fahrenheit.\n",
        "user_list = list(map(int,input(\"Enter the list\").split()))\n",
        "form = list( map(lambda i:(i * 1.8) + 32, user_list))\n",
        "print(form)\n",
        "\n"
      ],
      "metadata": {
        "colab": {
          "base_uri": "https://localhost:8080/"
        },
        "id": "QE48T5EexE-_",
        "outputId": "3f2c7067-dd98-46ec-f00d-f27a23715a10"
      },
      "execution_count": 30,
      "outputs": [
        {
          "output_type": "stream",
          "name": "stdout",
          "text": [
            "Enter the list0 10 20\n",
            "[32.0, 50.0, 68.0]\n"
          ]
        }
      ]
    },
    {
      "cell_type": "markdown",
      "source": [
        "**4. Function Arguments**\n",
        "\n",
        "Python supports:\n",
        "\n",
        "Positional arguments\n",
        "\n",
        "Keyword arguments\n",
        "\n",
        "Default arguments\n",
        "\n",
        "Variable-length arguments (*args, **kwargs)"
      ],
      "metadata": {
        "id": "W5H-ze3Emcld"
      }
    },
    {
      "cell_type": "code",
      "source": [
        "#Example 1: Positional + Default Arguments\n",
        "def introduce(name, city=\"Unknown\"):\n",
        "    print(f\"My name is {name}, I live in {city}.\")\n",
        "\n",
        "introduce(\"Aashika\", \"Chennai\")\n",
        "introduce(\"Sheik\")  # default city"
      ],
      "metadata": {
        "colab": {
          "base_uri": "https://localhost:8080/"
        },
        "id": "G2WQPUwgmcKO",
        "outputId": "5fcdf7e4-642f-4bff-a047-2c631f3e40d6"
      },
      "execution_count": 26,
      "outputs": [
        {
          "output_type": "stream",
          "name": "stdout",
          "text": [
            "My name is Aashika, I live in Chennai.\n",
            "My name is Sheik, I live in Unknown.\n"
          ]
        }
      ]
    },
    {
      "cell_type": "code",
      "source": [
        "#Example 2: *args → variable number of arguments\n",
        "def add_all(*args):\n",
        "    return sum(args)\n",
        "\n",
        "print(add_all(1, 2, 3, 4, 5))"
      ],
      "metadata": {
        "colab": {
          "base_uri": "https://localhost:8080/"
        },
        "id": "7tvNsS9dmwxF",
        "outputId": "215852e8-ddc5-44bb-a6dd-75ff2cec6380"
      },
      "execution_count": 31,
      "outputs": [
        {
          "output_type": "stream",
          "name": "stdout",
          "text": [
            "15\n"
          ]
        }
      ]
    },
    {
      "cell_type": "code",
      "source": [
        "#Example 3: **kwargs → keyworded variable arguments\n",
        "def show_info(**kwargs):\n",
        "    for key, value in kwargs.items():\n",
        "        print(f\"{key}: {value}\")\n",
        "\n",
        "show_info(name=\"Aashika\", role=\"Data Scientist\", city=\"Chennai\")"
      ],
      "metadata": {
        "colab": {
          "base_uri": "https://localhost:8080/"
        },
        "id": "FQ2TWwOPnyLe",
        "outputId": "82e95668-a8d4-454a-ba65-2cc38ad401ff"
      },
      "execution_count": 32,
      "outputs": [
        {
          "output_type": "stream",
          "name": "stdout",
          "text": [
            "name: Aashika\n",
            "role: Data Scientist\n",
            "city: Chennai\n"
          ]
        }
      ]
    },
    {
      "cell_type": "markdown",
      "source": [
        "Task 1: Write a function with default arguments for name=\"Guest\" and age=18.\n",
        "\n",
        "Task 2: Write a function using *args to calculate product of numbers.\n"
      ],
      "metadata": {
        "id": "8kDmle9an4MF"
      }
    },
    {
      "cell_type": "code",
      "source": [
        "#Write a function with default arguments for name=\"Guest\" and age=18.\n",
        "\n",
        "def greet (name = \"Guest\", age = 18):\n",
        "  print (f\"Hi {name} you're age is {age} \")\n",
        "greet(\"aashika\",20)\n",
        "greet ()"
      ],
      "metadata": {
        "colab": {
          "base_uri": "https://localhost:8080/"
        },
        "id": "BF86PSDNoGxl",
        "outputId": "d93f47db-1d80-4a90-8550-eebedee07aad"
      },
      "execution_count": 34,
      "outputs": [
        {
          "output_type": "stream",
          "name": "stdout",
          "text": [
            "Hi aashika you're age is 20 \n",
            "Hi Guest you're age is 18 \n"
          ]
        }
      ]
    },
    {
      "cell_type": "code",
      "source": [
        "#Write a function using *args to calculate product of numbers.\n",
        "def product (*args):\n",
        "  return sum(args)\n",
        "\n",
        "product(1, 2, 3, 4, 5)"
      ],
      "metadata": {
        "colab": {
          "base_uri": "https://localhost:8080/"
        },
        "id": "taO9KdRFoGmV",
        "outputId": "0046637a-dfff-4901-8dce-a43158fea8b4"
      },
      "execution_count": 36,
      "outputs": [
        {
          "output_type": "execute_result",
          "data": {
            "text/plain": [
              "15"
            ]
          },
          "metadata": {},
          "execution_count": 36
        }
      ]
    },
    {
      "cell_type": "markdown",
      "source": [
        "**5. Scope of Variables**\n",
        "\n",
        "Local Variable: Defined inside a function.\n",
        "\n",
        "Global Variable: Defined outside all functions.\n",
        "\n",
        "global keyword: Used to modify global variables inside functions."
      ],
      "metadata": {
        "id": "oLK8aooBn_lE"
      }
    },
    {
      "cell_type": "code",
      "source": [
        "x = 10  # global\n",
        "\n",
        "def func():\n",
        "    global x\n",
        "    x = 20  # modifies global variable\n",
        "    y = 5   # local\n",
        "    print(\"Inside function:\", x, y)\n",
        "\n",
        "func()\n",
        "print(\"Outside function:\", x)\n"
      ],
      "metadata": {
        "id": "CJunXkhCoDel"
      },
      "execution_count": null,
      "outputs": []
    },
    {
      "cell_type": "markdown",
      "source": [
        "Task 1: Create a global variable \"count\". Increment it inside a function using 'global'.\n",
        "\n",
        "Task 2: Show that local variables inside a function cannot be accessed outside.\n"
      ],
      "metadata": {
        "id": "KiEe-Ca3oHkl"
      }
    },
    {
      "cell_type": "code",
      "source": [
        "#Create a global variable \"count\". Increment it inside a function using 'global'.\n",
        "outside_num = int(input(\"Enter the number for global variable : \"))\n",
        "def func ():\n",
        "  global outside_num\n",
        "  print(\"Inside the Function: \")\n",
        "  outside_num+=1\n",
        "  return outside_num\n",
        "func()"
      ],
      "metadata": {
        "colab": {
          "base_uri": "https://localhost:8080/"
        },
        "id": "6MSgSQwBoP6s",
        "outputId": "25605385-a6f0-4ea6-94c2-38f3fa4c0209"
      },
      "execution_count": 1,
      "outputs": [
        {
          "output_type": "stream",
          "name": "stdout",
          "text": [
            "Enter the number for global variable : 3\n",
            "Inside the Function: \n"
          ]
        },
        {
          "output_type": "execute_result",
          "data": {
            "text/plain": [
              "4"
            ]
          },
          "metadata": {},
          "execution_count": 1
        }
      ]
    },
    {
      "cell_type": "code",
      "source": [
        "#Show that local variables inside a function cannot be accessed outside.\n",
        "def func ():\n",
        "  x = 10\n",
        "func()\n",
        "print(x)"
      ],
      "metadata": {
        "colab": {
          "base_uri": "https://localhost:8080/",
          "height": 176
        },
        "id": "5G0KqglkoPvc",
        "outputId": "30def9aa-3a94-4a30-9f31-72ccd0fe6dad"
      },
      "execution_count": 4,
      "outputs": [
        {
          "output_type": "error",
          "ename": "NameError",
          "evalue": "name 'x' is not defined",
          "traceback": [
            "\u001b[0;31m---------------------------------------------------------------------------\u001b[0m",
            "\u001b[0;31mNameError\u001b[0m                                 Traceback (most recent call last)",
            "\u001b[0;32m/tmp/ipython-input-1000166940.py\u001b[0m in \u001b[0;36m<cell line: 0>\u001b[0;34m()\u001b[0m\n\u001b[1;32m      3\u001b[0m   \u001b[0mx\u001b[0m \u001b[0;34m=\u001b[0m \u001b[0;36m10\u001b[0m\u001b[0;34m\u001b[0m\u001b[0;34m\u001b[0m\u001b[0m\n\u001b[1;32m      4\u001b[0m \u001b[0mfunc\u001b[0m\u001b[0;34m(\u001b[0m\u001b[0;34m)\u001b[0m\u001b[0;34m\u001b[0m\u001b[0;34m\u001b[0m\u001b[0m\n\u001b[0;32m----> 5\u001b[0;31m \u001b[0mprint\u001b[0m\u001b[0;34m(\u001b[0m\u001b[0mx\u001b[0m\u001b[0;34m)\u001b[0m\u001b[0;34m\u001b[0m\u001b[0;34m\u001b[0m\u001b[0m\n\u001b[0m",
            "\u001b[0;31mNameError\u001b[0m: name 'x' is not defined"
          ]
        }
      ]
    },
    {
      "cell_type": "markdown",
      "source": [
        "**6. Recursion**\n",
        "\n",
        "A recursive function calls itself until a base condition is met.\n",
        "Useful for problems like factorial, Fibonacci, tree traversal."
      ],
      "metadata": {
        "id": "xG9SE_PsohgE"
      }
    },
    {
      "cell_type": "code",
      "source": [
        "#Example: Factorial\n",
        "def factorial(n):\n",
        "    if n == 0 or n == 1:\n",
        "        return 1\n",
        "    return n * factorial(n - 1)\n",
        "\n",
        "print(\"Factorial of 5:\", factorial(5))"
      ],
      "metadata": {
        "colab": {
          "base_uri": "https://localhost:8080/"
        },
        "id": "_5iIHvB0olCc",
        "outputId": "5b71dce2-588a-45d4-985a-b77f7953da0d"
      },
      "execution_count": 1,
      "outputs": [
        {
          "output_type": "stream",
          "name": "stdout",
          "text": [
            "Factorial of 5: 120\n"
          ]
        }
      ]
    },
    {
      "cell_type": "code",
      "source": [
        "#Example: Fibonacci (recursive)\n",
        "def fibonacci(n):\n",
        "    if n <= 1:\n",
        "        return n\n",
        "    return fibonacci(n-1) + fibonacci(n-2)\n",
        "\n",
        "for i in range(6):\n",
        "    print(fibonacci(i), end=\" \")"
      ],
      "metadata": {
        "id": "y5itcSWtorrk"
      },
      "execution_count": null,
      "outputs": []
    },
    {
      "cell_type": "markdown",
      "source": [
        "Task 1: Write a recursive function to calculate the sum of first n numbers.\n",
        "\n",
        "Task 2: Write a recursive function to reverse a string.\n"
      ],
      "metadata": {
        "id": "cVveu7KwowWl"
      }
    },
    {
      "cell_type": "code",
      "source": [
        "#Write a recursive function to calculate the sum of first n numbers.\n",
        "def sum_n (n):\n",
        "  sum =0\n",
        "  for i in range (1,n+1):\n",
        "    sum += i\n",
        "  return sum\n",
        "\n",
        "n = int(input(\"Enter the Number : \"))\n",
        "sum_n(n)"
      ],
      "metadata": {
        "colab": {
          "base_uri": "https://localhost:8080/"
        },
        "id": "8CkWTqrWGXPS",
        "outputId": "2455f5de-a326-47a6-fc71-07620ce43834"
      },
      "execution_count": 5,
      "outputs": [
        {
          "name": "stdout",
          "output_type": "stream",
          "text": [
            "Enter the Number : 10\n"
          ]
        },
        {
          "output_type": "execute_result",
          "data": {
            "text/plain": [
              "55"
            ]
          },
          "metadata": {},
          "execution_count": 5
        }
      ]
    },
    {
      "cell_type": "code",
      "source": [
        "#Write a recursive function to reverse a string\n",
        "def reverse (string):\n",
        "  print(string[::-1])\n",
        "\n",
        "string = input(\"Enter the string for reversal\")\n",
        "reverse(string)"
      ],
      "metadata": {
        "colab": {
          "base_uri": "https://localhost:8080/"
        },
        "id": "ZEl4Etq7GXHp",
        "outputId": "0fbb7d50-f178-4ecc-cb49-176f3caa31a8"
      },
      "execution_count": 6,
      "outputs": [
        {
          "output_type": "stream",
          "name": "stdout",
          "text": [
            "Enter the string for reversalaashika\n",
            "akihsaa\n"
          ]
        }
      ]
    },
    {
      "cell_type": "markdown",
      "source": [
        "**7. Modules in Python**\n",
        "\n",
        "A module = a .py file containing functions, variables, classes.\n",
        "We can import:\n",
        "\n",
        "Built-in modules (math, random, os)\n",
        "\n",
        "User-defined modules"
      ],
      "metadata": {
        "id": "czvltH7Ro6BF"
      }
    },
    {
      "cell_type": "code",
      "source": [
        "#Example: Built-in\n",
        "import math\n",
        "print(math.sqrt(25))\n",
        "print(math.factorial(5))\n"
      ],
      "metadata": {
        "colab": {
          "base_uri": "https://localhost:8080/"
        },
        "id": "uHTjcgJoo1dE",
        "outputId": "30d6e9be-f3b6-465c-a22e-280d1185a87c"
      },
      "execution_count": 7,
      "outputs": [
        {
          "output_type": "stream",
          "name": "stdout",
          "text": [
            "5.0\n",
            "120\n"
          ]
        }
      ]
    },
    {
      "cell_type": "code",
      "source": [
        "#Example: Random\n",
        "import random\n",
        "print(random.randint(1, 10))"
      ],
      "metadata": {
        "colab": {
          "base_uri": "https://localhost:8080/"
        },
        "id": "hdyLZqxzpGCU",
        "outputId": "7ad90cf5-7a35-4496-9937-2c6b5282b123"
      },
      "execution_count": 8,
      "outputs": [
        {
          "output_type": "stream",
          "name": "stdout",
          "text": [
            "4\n"
          ]
        }
      ]
    },
    {
      "cell_type": "markdown",
      "source": [
        "**Example: Custom Module**\n",
        "\n",
        "```\n",
        "File: helper.py\n",
        "\n",
        "def say_hello(name):\n",
        "    return f\"Hello, {name}\"\n",
        "```\n",
        "\n",
        "```\n",
        "\n",
        "File: main.py\n",
        "\n",
        "import helper\n",
        "print(helper.say_hello(\"Aashika\"))\n",
        "```\n",
        "\n",
        "Since Colab doesn’t have multiple files by default, you can create the helper module in a cell like this:"
      ],
      "metadata": {
        "id": "gUlpKEXWhwSo"
      }
    },
    {
      "cell_type": "code",
      "source": [
        "# Create helper.py in Colab\n",
        "with open(\"helper.py\", \"w\") as f:\n",
        "    f.write(\"\"\"\n",
        "def say_hello(name):\n",
        "    return f\"Hello, {name}\"\n",
        "\"\"\")\n"
      ],
      "metadata": {
        "id": "UssQpXXtpRME"
      },
      "execution_count": 10,
      "outputs": []
    },
    {
      "cell_type": "code",
      "source": [
        "import helper\n",
        "print(helper.say_hello(\"Aashika\"))\n"
      ],
      "metadata": {
        "colab": {
          "base_uri": "https://localhost:8080/"
        },
        "id": "WzaJxyQoiTcw",
        "outputId": "0e87e7e2-20c9-4f31-d8af-875a43dcbe81"
      },
      "execution_count": 11,
      "outputs": [
        {
          "output_type": "stream",
          "name": "stdout",
          "text": [
            "Hello, Aashika\n"
          ]
        }
      ]
    },
    {
      "cell_type": "markdown",
      "source": [
        "Task 1: Use random module to generate 5 random numbers between 1 and 50.\n",
        "\n",
        "Task 2: Create a custom module math_utils.py with functions: square, cube, factorial. Import it in another file.\n"
      ],
      "metadata": {
        "id": "WUoea5vbpvVk"
      }
    },
    {
      "cell_type": "code",
      "source": [
        "#Use random module to generate 5 random numbers between 1 and 50.\n",
        "import random\n",
        "for i in range (5):\n",
        "  print(random.randint(1,50))\n"
      ],
      "metadata": {
        "colab": {
          "base_uri": "https://localhost:8080/"
        },
        "id": "nhPMn0pzGV0R",
        "outputId": "17724800-c6d8-4cd1-cd5f-df26cb6c9bea"
      },
      "execution_count": 13,
      "outputs": [
        {
          "output_type": "stream",
          "name": "stdout",
          "text": [
            "47\n",
            "25\n",
            "41\n",
            "43\n",
            "15\n"
          ]
        }
      ]
    },
    {
      "cell_type": "code",
      "source": [
        "#Create a custom module math_utils.py with functions: square, cube, factorial. Import it in another file.\n",
        "with open (\"math_utils.py\",\"w\") as f:\n",
        "  f.write(\"\"\"\n",
        "import math\n",
        "def functions(num1):\n",
        "  square = num1 **2\n",
        "  cube = num1 **3\n",
        "  factor = math.factorial(num1)\n",
        "\n",
        "  print(f\"The square of {num1} is {square}\")\n",
        "  print(f\"The cube of {num1} is {cube}\")\n",
        "  print(f\"The factor of {num1} is {factor}\")\n",
        "  \"\"\")"
      ],
      "metadata": {
        "id": "N1-fL-WcGVrp"
      },
      "execution_count": 19,
      "outputs": []
    },
    {
      "cell_type": "code",
      "source": [
        "import math_utils\n",
        "math_utils.functions(25)"
      ],
      "metadata": {
        "colab": {
          "base_uri": "https://localhost:8080/"
        },
        "id": "y0EiSe0HlKOf",
        "outputId": "5f781b22-c768-4a9b-9921-4e3747df508a"
      },
      "execution_count": 22,
      "outputs": [
        {
          "output_type": "stream",
          "name": "stdout",
          "text": [
            "The square of 25 is 625\n",
            "The cube of 25 is 15625\n",
            "The factor of 25 is 15511210043330985984000000\n"
          ]
        }
      ]
    }
  ]
}