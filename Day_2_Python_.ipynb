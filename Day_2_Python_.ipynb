{
  "nbformat": 4,
  "nbformat_minor": 0,
  "metadata": {
    "colab": {
      "provenance": []
    },
    "kernelspec": {
      "name": "python3",
      "display_name": "Python 3"
    },
    "language_info": {
      "name": "python"
    }
  },
  "cells": [
    {
      "cell_type": "markdown",
      "source": [
        "**Day 2: Python Notes – Loops, Conditions, Functions**\n",
        "\n",
        "This notebook covers detailed explanations, examples, and practice tasks for conditional statements, loops, and functions in Python. It is designed for deep understanding and interview-level practice.\n"
      ],
      "metadata": {
        "id": "iL0bbmOs46QE"
      }
    },
    {
      "cell_type": "markdown",
      "source": [
        "**1. Conditional Statements**\n",
        "\n",
        "Conditional statements decide which path the program should take based on conditions. Python evaluates a condition as True or False.\n",
        "\n",
        "**Types: `if`, `if-else`, `if-elif-else`**\n",
        "\n",
        "- `if condition:` executes block if condition is True  \n",
        "- `else:` executes block if all previous conditions are False  \n",
        "- `elif condition:` checks additional conditions if previous `if/elif` are False  \n",
        "\n",
        "**Boolean and logical operators:  **\n",
        "- `==` equals  \n",
        "- `!=` not equal  \n",
        "- `>` greater than  \n",
        "- `<` less than  \n",
        "- `>=`, `<=` greater/less than or equal  \n",
        "- `and`, `or`, `not` combine conditions\n"
      ],
      "metadata": {
        "id": "LZnt0OdQ5uIX"
      }
    },
    {
      "cell_type": "code",
      "execution_count": 61,
      "metadata": {
        "colab": {
          "base_uri": "https://localhost:8080/"
        },
        "id": "_YwJgTMP3d5z",
        "outputId": "f74c3f3e-4e0f-4135-8521-7f68b588728e"
      },
      "outputs": [
        {
          "output_type": "stream",
          "name": "stdout",
          "text": [
            "Enter your marks: 30\n",
            "Grade F\n"
          ]
        }
      ],
      "source": [
        "marks = int(input(\"Enter your marks: \"))\n",
        "\n",
        "if marks > 90:\n",
        "    print(\"Grade A\")\n",
        "elif 80 < marks <= 90:\n",
        "    print(\"Grade B\")\n",
        "elif 70 < marks <= 80:\n",
        "    print(\"Grade C\")\n",
        "else:\n",
        "    print(\"Grade F\")\n"
      ]
    },
    {
      "cell_type": "markdown",
      "source": [
        "Task: Check if a number is even or odd\n",
        "\n",
        "Task: Check largest among 3 numbers\n",
        "\n",
        "Task: Implement nested conditions to classify age groups (child, teen, adult, senior)\n",
        "\n"
      ],
      "metadata": {
        "id": "GLnEuubb6ANQ"
      }
    },
    {
      "cell_type": "code",
      "source": [
        "#Check if a number is even or odd\n",
        "\n",
        "def check (num):\n",
        "  if(num > 0):\n",
        "    if (num%2 == 0):\n",
        "      print(f\"The {num} is even\")\n",
        "    else:\n",
        "      print(f\"The {num} is odd\")\n",
        "  elif(num == 0):\n",
        "    print(f\"The {num} is neutral number (i.e) zero.\")\n",
        "  else:\n",
        "    print(f\"The {num} is negative number,Give postive number\")\n",
        "num = int(input(\"Enter the number\"))\n",
        "check(num)"
      ],
      "metadata": {
        "colab": {
          "base_uri": "https://localhost:8080/"
        },
        "id": "6kHY_t2l6SOA",
        "outputId": "2cc269f4-c7e6-48af-aff3-df44b46bbd28"
      },
      "execution_count": 1,
      "outputs": [
        {
          "output_type": "stream",
          "name": "stdout",
          "text": [
            "Enter the number-2\n",
            "The -2 is negative number,Give postive number\n"
          ]
        }
      ]
    },
    {
      "cell_type": "code",
      "source": [
        "#Check largest among 3 numbers\n",
        "def large(num1,num2,num3):\n",
        "  if (num1 > num2 and num1 > num3):\n",
        "    print(f\"{num1} is greator than {num2} and {num3}\")\n",
        "  elif (num2 > num1 and num2 > num3):\n",
        "    print(f\"{num2} is greator than {num1} and {num3}\")\n",
        "  else:\n",
        "    print(f\"{num3} is greator than {num1} and {num2}\")\n",
        "\n",
        "num1, num2, num3 = map(int, input(\"Enter three numbers separated by spaces: \").split())\n",
        "large(num1,num2,num3)\n"
      ],
      "metadata": {
        "colab": {
          "base_uri": "https://localhost:8080/"
        },
        "id": "kxHIJrUt6SAm",
        "outputId": "c7338876-4666-4763-d391-f7f3d28bda37"
      },
      "execution_count": 5,
      "outputs": [
        {
          "output_type": "stream",
          "name": "stdout",
          "text": [
            "Enter three numbers separated by spaces: 1 2 3\n",
            "3 is greator than 1 and 2\n"
          ]
        }
      ]
    },
    {
      "cell_type": "code",
      "source": [
        "#Implement nested conditions to classify age groups (child, teen, adult, senior)\n",
        " #Child (approximately 0-12 years), Teen (approximately 13-19 years), Adult (approximately 20-64 years), and Senior (65+ years)\n",
        "def age_check (age):\n",
        "  if age <= 12:\n",
        "    print(f\"You're age is {age} so you're a CHILD\")\n",
        "  elif (age >= 13 ) and (age <= 19):\n",
        "    print(f\"You're age is {age} so you're a TEEN\")\n",
        "  elif (age >= 20 ) and (age <= 64):\n",
        "    print(f\"You're age is {age} so you're an ADULT\")\n",
        "  else:\n",
        "    print(f\"You're age is {age} ao you're a SENIOR\")\n",
        "\n",
        "age = int(input(\"Enter you're age to check category : \"))\n",
        "age_check(age)\n",
        "\n",
        "\n",
        "\n"
      ],
      "metadata": {
        "colab": {
          "base_uri": "https://localhost:8080/"
        },
        "id": "g-vSY48a6Rc3",
        "outputId": "5bfc68b0-014f-4da3-970a-ddba229fc119"
      },
      "execution_count": 6,
      "outputs": [
        {
          "output_type": "stream",
          "name": "stdout",
          "text": [
            "Enter you're age to check category : 45\n",
            "You're age is 45 so you're an ADULT\n"
          ]
        }
      ]
    },
    {
      "cell_type": "markdown",
      "source": [
        "**2. For Loops**\n",
        "\n",
        "`for` loops repeat a block a known number of times. They can iterate over any iterable like `range()`, `list`, `tuple`, or `string`.\n",
        "\n",
        "Nested loops allow repeating loops inside loops for complex patterns or sequences.\n"
      ],
      "metadata": {
        "id": "zLIXF8vH6ean"
      }
    },
    {
      "cell_type": "code",
      "source": [
        "for i in range(1, 6):\n",
        "    print(i)\n"
      ],
      "metadata": {
        "colab": {
          "base_uri": "https://localhost:8080/"
        },
        "id": "i0Z2vlYH6k4A",
        "outputId": "27884fdf-f627-4ce4-d3be-a000377ae0a0"
      },
      "execution_count": 62,
      "outputs": [
        {
          "output_type": "stream",
          "name": "stdout",
          "text": [
            "1\n",
            "2\n",
            "3\n",
            "4\n",
            "5\n"
          ]
        }
      ]
    },
    {
      "cell_type": "code",
      "source": [
        "for i in range(1, 4):\n",
        "    for j in range(1, 11):\n",
        "        print(f\"{i} x {j} = {i*j}\")\n",
        "    print(\"---------\")\n"
      ],
      "metadata": {
        "colab": {
          "base_uri": "https://localhost:8080/"
        },
        "id": "jeFGzgqJ6oFP",
        "outputId": "2879cc12-44f3-41c1-cbbe-667d79a46144"
      },
      "execution_count": 63,
      "outputs": [
        {
          "output_type": "stream",
          "name": "stdout",
          "text": [
            "1 x 1 = 1\n",
            "1 x 2 = 2\n",
            "1 x 3 = 3\n",
            "1 x 4 = 4\n",
            "1 x 5 = 5\n",
            "1 x 6 = 6\n",
            "1 x 7 = 7\n",
            "1 x 8 = 8\n",
            "1 x 9 = 9\n",
            "1 x 10 = 10\n",
            "---------\n",
            "2 x 1 = 2\n",
            "2 x 2 = 4\n",
            "2 x 3 = 6\n",
            "2 x 4 = 8\n",
            "2 x 5 = 10\n",
            "2 x 6 = 12\n",
            "2 x 7 = 14\n",
            "2 x 8 = 16\n",
            "2 x 9 = 18\n",
            "2 x 10 = 20\n",
            "---------\n",
            "3 x 1 = 3\n",
            "3 x 2 = 6\n",
            "3 x 3 = 9\n",
            "3 x 4 = 12\n",
            "3 x 5 = 15\n",
            "3 x 6 = 18\n",
            "3 x 7 = 21\n",
            "3 x 8 = 24\n",
            "3 x 9 = 27\n",
            "3 x 10 = 30\n",
            "---------\n"
          ]
        }
      ]
    },
    {
      "cell_type": "markdown",
      "source": [
        "Task : Print even numbers 1-20\n",
        "\n",
        "Task : Print factorial of a number using for loop\n",
        "\n",
        "Task : Print all prime numbers from 1 to 100\n"
      ],
      "metadata": {
        "id": "FolcNwAS6qm-"
      }
    },
    {
      "cell_type": "code",
      "source": [
        "#Print even numbers 1-20\n",
        "def even_num (num):\n",
        "  print (\"The even number's are given below\")\n",
        "  for i in range (1,num+1):\n",
        "    if (i%2 == 0):\n",
        "      print(i)\n",
        "\n",
        "even_num(20)\n"
      ],
      "metadata": {
        "colab": {
          "base_uri": "https://localhost:8080/"
        },
        "id": "C0u8hkbJ6-0A",
        "outputId": "2e66d577-c031-41be-932d-f7734c7b5fc5"
      },
      "execution_count": 10,
      "outputs": [
        {
          "output_type": "stream",
          "name": "stdout",
          "text": [
            "The even number's are given below\n",
            "2\n",
            "4\n",
            "6\n",
            "8\n",
            "10\n",
            "12\n",
            "14\n",
            "16\n",
            "18\n",
            "20\n"
          ]
        }
      ]
    },
    {
      "cell_type": "code",
      "source": [
        "# Print factorial of a number using for loop\n",
        "def factorial (num):\n",
        "  result = 1\n",
        "  for i in range (1,num+1):\n",
        "    result *= i\n",
        "  print(result)\n",
        "\n",
        "num = int(input(\"Enter the Number to check Factorial\"))\n",
        "factorial (num)"
      ],
      "metadata": {
        "colab": {
          "base_uri": "https://localhost:8080/"
        },
        "id": "f5rGqFPy6-rH",
        "outputId": "2e6cd5d2-8a5d-4a57-9a8e-372c8599d9ae"
      },
      "execution_count": 17,
      "outputs": [
        {
          "output_type": "stream",
          "name": "stdout",
          "text": [
            "Enter the Number to check Factorial5\n",
            "120\n"
          ]
        }
      ]
    },
    {
      "cell_type": "code",
      "source": [
        "# Print all prime numbers from 1 to 100\n",
        "\n",
        "def prime_num(num):\n",
        "    print(\"The prime number between 1 - 100 : \")\n",
        "    for i in range(2, num + 1):\n",
        "        for j in range(2, i):\n",
        "            if i % j == 0:\n",
        "                break\n",
        "        else:\n",
        "            print(i, end=\" \")\n",
        "\n",
        "prime_num(100)\n",
        "\n"
      ],
      "metadata": {
        "colab": {
          "base_uri": "https://localhost:8080/"
        },
        "id": "WOQAwFra6-f3",
        "outputId": "8dfc1541-5d65-48c4-988d-df43ebb861a5"
      },
      "execution_count": 27,
      "outputs": [
        {
          "output_type": "stream",
          "name": "stdout",
          "text": [
            "The prime number between 1 - 100 : \n",
            "2 3 5 7 11 13 17 19 23 29 31 37 41 43 47 53 59 61 67 71 73 79 83 89 97 "
          ]
        }
      ]
    },
    {
      "cell_type": "markdown",
      "source": [
        "**3. While Loops**\n",
        "\n",
        "`while` loops repeat until a condition becomes False. Useful when the number of iterations is not known in advance.\n",
        "\n",
        "You can use `break` to exit loops early and `continue` to skip the current iteration.\n"
      ],
      "metadata": {
        "id": "alGS9FwJ7LT3"
      }
    },
    {
      "cell_type": "code",
      "source": [
        "i = 1\n",
        "while i <= 5:\n",
        "    print(i)\n",
        "    i += 1\n"
      ],
      "metadata": {
        "colab": {
          "base_uri": "https://localhost:8080/"
        },
        "id": "mkJuaeG27Xi4",
        "outputId": "32e5d29d-b191-49d1-ca38-91e4f0faba95"
      },
      "execution_count": 29,
      "outputs": [
        {
          "output_type": "stream",
          "name": "stdout",
          "text": [
            "1\n",
            "2\n",
            "3\n",
            "4\n",
            "5\n"
          ]
        }
      ]
    },
    {
      "cell_type": "code",
      "source": [
        "i = 0\n",
        "while i < 10:\n",
        "    i += 1\n",
        "    if i == 5:\n",
        "        continue\n",
        "    elif i == 8:\n",
        "        break\n",
        "    print(i)\n"
      ],
      "metadata": {
        "colab": {
          "base_uri": "https://localhost:8080/"
        },
        "id": "l8y0K9xZ7ud3",
        "outputId": "4550e45d-e8a2-4a14-aeb9-6eaf756eda67"
      },
      "execution_count": 28,
      "outputs": [
        {
          "output_type": "stream",
          "name": "stdout",
          "text": [
            "1\n",
            "2\n",
            "3\n",
            "4\n",
            "6\n",
            "7\n"
          ]
        }
      ]
    },
    {
      "cell_type": "markdown",
      "source": [
        "Task :Sum of first n numbers\n",
        "\n",
        "Task : Reverse a number\n",
        "\n",
        "Task : Count digits of each number in a list\n"
      ],
      "metadata": {
        "id": "uKX2jTvo7x3u"
      }
    },
    {
      "cell_type": "code",
      "source": [
        "#Sum of first n numbers\n",
        "def sum1 (n):\n",
        "  sum = 0\n",
        "  i=1\n",
        "  while i <= n:\n",
        "    sum += i\n",
        "    i+=1\n",
        "  print(sum)\n",
        "  #return sum\n",
        "\n",
        "n = int(input(\"Enter the n : \"))\n",
        "sum1(n)"
      ],
      "metadata": {
        "colab": {
          "base_uri": "https://localhost:8080/"
        },
        "id": "zi_rmGLX8CKu",
        "outputId": "3eb87103-efc8-4cb7-c6f2-506be5871f9a"
      },
      "execution_count": 36,
      "outputs": [
        {
          "output_type": "stream",
          "name": "stdout",
          "text": [
            "Enter the n : 3\n",
            "6\n"
          ]
        }
      ]
    },
    {
      "cell_type": "code",
      "source": [
        "# Reverse a number\n",
        "def reverse(num):\n",
        "    temp = 0\n",
        "    while num > 0:\n",
        "        digit = num % 10\n",
        "        temp = temp * 10 + digit\n",
        "        num = num // 10\n",
        "    print(\"The reversed number is\", temp)\n",
        "\n",
        "num = int(input(\"Enter the number to be reversed: \"))\n",
        "reverse(num)\n",
        "\n",
        "\n",
        "\n",
        "\n"
      ],
      "metadata": {
        "colab": {
          "base_uri": "https://localhost:8080/"
        },
        "id": "_TGpS6TY8Cne",
        "outputId": "cb99a592-da3c-44cd-c29d-60aeab4e9842"
      },
      "execution_count": 40,
      "outputs": [
        {
          "output_type": "stream",
          "name": "stdout",
          "text": [
            "Enter the number to be reversed: 32\n",
            "The reversed number is 23\n"
          ]
        }
      ]
    },
    {
      "cell_type": "code",
      "source": [
        "# Count digits of each number in a list\n",
        "def digits(num_list):\n",
        "    for num in num_list:\n",
        "        temp = num\n",
        "        count = 0\n",
        "        if temp == 0:\n",
        "            count = 1\n",
        "        else:\n",
        "            while temp > 0:\n",
        "                temp //= 10\n",
        "                count += 1\n",
        "        print(f\"Number {num} has {count} digits\")\n",
        "\n",
        "num_list = list(map(int, input(\"Enter the numbers separated by spaces: \").split()))\n",
        "digits(num_list)\n",
        "\n",
        ""
      ],
      "metadata": {
        "colab": {
          "base_uri": "https://localhost:8080/"
        },
        "id": "Pz3he52k8CdG",
        "outputId": "ce2115a8-d773-43e4-e2f1-2fce2d217d40"
      },
      "execution_count": 51,
      "outputs": [
        {
          "output_type": "stream",
          "name": "stdout",
          "text": [
            "Enter the numbers separated by spaces: 12 345 7 8901\n",
            "Number 12 has 2 digits\n",
            "Number 345 has 3 digits\n",
            "Number 7 has 1 digits\n",
            "Number 8901 has 4 digits\n"
          ]
        }
      ]
    },
    {
      "cell_type": "markdown",
      "source": [
        "**4. Functions**\n",
        "\n",
        "Functions are reusable blocks of code. Input goes in, process happens, output comes out.\n",
        "\n",
        "Syntax:\n",
        "def function_name(parameters):\n",
        "    # code\n",
        "    return output\n",
        "\n",
        "Advanced:\n",
        "- Default parameters: def greet(name=\"Friend\"):\n",
        "- Variable length arguments: def add(*nums):\n",
        "- Functions can return multiple values: return min(lst), max(lst)\n"
      ],
      "metadata": {
        "id": "u6i_CVTf8C5O"
      }
    },
    {
      "cell_type": "code",
      "source": [
        "# Factorial function\n",
        "def factorial(n):\n",
        "    result = 1\n",
        "    for i in range(1, n+1):\n",
        "        result *= i\n",
        "    return result\n",
        "\n",
        "print(factorial(5))\n",
        "\n",
        "# Default parameter example\n",
        "def greet(name=\"Friend\"):\n",
        "    print(\"Hello\", name)\n",
        "greet()\n",
        "greet(\"Aashika\")\n",
        "\n",
        "# Variable length arguments example\n",
        "def add(*nums):\n",
        "    total = 0\n",
        "    for n in nums:\n",
        "        total += n\n",
        "    return total\n",
        "\n",
        "print(add(1,2,3,4))\n",
        "\n",
        "# Function returning multiple values\n",
        "def min_max(lst):\n",
        "    return min(lst), max(lst)\n",
        "\n",
        "print(min_max([3,1,7,4]))\n"
      ],
      "metadata": {
        "colab": {
          "base_uri": "https://localhost:8080/"
        },
        "id": "wV86eugl9Kml",
        "outputId": "3d3e91f7-77b7-4d23-e38a-5e4255db8ce7"
      },
      "execution_count": 64,
      "outputs": [
        {
          "output_type": "stream",
          "name": "stdout",
          "text": [
            "120\n",
            "Hello Friend\n",
            "Hello Aashika\n",
            "10\n",
            "(1, 7)\n"
          ]
        }
      ]
    },
    {
      "cell_type": "markdown",
      "source": [
        "Task: Function to square a number\n",
        "\n",
        "Task:Function to check if number is prime\n",
        "\n",
        "Task:Function to generate Fibonacci series up to n terms\n"
      ],
      "metadata": {
        "id": "1jD240CI9PsN"
      }
    },
    {
      "cell_type": "code",
      "source": [
        "#Function to square a number\n",
        "def square (num):\n",
        "  squared = num **2\n",
        "  return squared\n",
        "num = int(input(\"Enter the number to be squared :\"))\n",
        "square(num)"
      ],
      "metadata": {
        "colab": {
          "base_uri": "https://localhost:8080/"
        },
        "id": "ZNNaWIX09or-",
        "outputId": "567c98f3-e2db-49ff-bc7a-79be23fe53e6"
      },
      "execution_count": 54,
      "outputs": [
        {
          "name": "stdout",
          "output_type": "stream",
          "text": [
            "Enter the number to be squared :2\n"
          ]
        },
        {
          "output_type": "execute_result",
          "data": {
            "text/plain": [
              "4"
            ]
          },
          "metadata": {},
          "execution_count": 54
        }
      ]
    },
    {
      "cell_type": "code",
      "source": [
        "#Function to check if number is prime\n",
        "def prime_num(num):\n",
        "    if num <= 1:\n",
        "        return False\n",
        "    for i in range(2, num):\n",
        "        if num % i == 0:\n",
        "            return False\n",
        "    return True\n",
        "\n",
        "num = int(input(\"Enter the number to check whether it is prime number or not :\"))\n",
        "prime_num(num)\n",
        "\n"
      ],
      "metadata": {
        "colab": {
          "base_uri": "https://localhost:8080/"
        },
        "id": "PKFN-b429pKm",
        "outputId": "209c44ca-e6b3-470d-ef51-daf8da819541"
      },
      "execution_count": 58,
      "outputs": [
        {
          "name": "stdout",
          "output_type": "stream",
          "text": [
            "Enter the number to check whether it is prime number or not :3\n"
          ]
        },
        {
          "output_type": "execute_result",
          "data": {
            "text/plain": [
              "True"
            ]
          },
          "metadata": {},
          "execution_count": 58
        }
      ]
    },
    {
      "cell_type": "code",
      "source": [
        "#Function to generate Fibonacci series up to n terms\n",
        "def Fibonacci(n):\n",
        "    a, b = 0, 1\n",
        "    if n < 0:\n",
        "        print(\"Input is incorrect\")\n",
        "    elif n == 0:\n",
        "        return 0\n",
        "    elif n == 1:\n",
        "        return b\n",
        "    else:\n",
        "        for i in range(2, n + 1):\n",
        "            c = a + b\n",
        "            a = b\n",
        "            b = c\n",
        "        return b\n",
        "\n",
        "\n",
        "n = int(input(\"Enter the number : \"))\n",
        "Fibonacci (n)"
      ],
      "metadata": {
        "colab": {
          "base_uri": "https://localhost:8080/"
        },
        "id": "WnM48Mnv9o_N",
        "outputId": "4c654deb-2b0d-410b-8a9a-4694b10af637"
      },
      "execution_count": 60,
      "outputs": [
        {
          "name": "stdout",
          "output_type": "stream",
          "text": [
            "Enter the number : 10\n"
          ]
        },
        {
          "output_type": "execute_result",
          "data": {
            "text/plain": [
              "55"
            ]
          },
          "metadata": {},
          "execution_count": 60
        }
      ]
    }
  ]
}