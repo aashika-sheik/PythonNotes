{
  "nbformat": 4,
  "nbformat_minor": 0,
  "metadata": {
    "colab": {
      "provenance": []
    },
    "kernelspec": {
      "name": "python3",
      "display_name": "Python 3"
    },
    "language_info": {
      "name": "python"
    }
  },
  "cells": [
    {
      "cell_type": "markdown",
      "source": [
        "**1. Classes and Objects**\n",
        "\n",
        "- A **class** is like a blueprint (recipe).  \n",
        "- An **object** is a copy created from the class (cake made from the recipe).  \n",
        "- Classes group attributes (variables) and methods (functions).  \n",
        "\n",
        "**Example:**\n"
      ],
      "metadata": {
        "id": "fjYAyOyOd_7z"
      }
    },
    {
      "cell_type": "code",
      "execution_count": 4,
      "metadata": {
        "colab": {
          "base_uri": "https://localhost:8080/"
        },
        "id": "116XPS-rd5Rd",
        "outputId": "1d856779-f094-456e-b148-30302a65c9d5"
      },
      "outputs": [
        {
          "output_type": "stream",
          "name": "stdout",
          "text": [
            "My name is Alice and I am 20 years old.\n",
            "My name is Bob and I am 22 years old.\n"
          ]
        }
      ],
      "source": [
        "class Student:\n",
        "    def __init__(self, name, age):\n",
        "        self.name = name\n",
        "        self.age = age\n",
        "\n",
        "    def introduce(self):\n",
        "        print(f\"My name is {self.name} and I am {self.age} years old.\")\n",
        "\n",
        "# Create objects\n",
        "s1 = Student(\"Alice\", 20)\n",
        "s2 = Student(\"Bob\", 22)\n",
        "\n",
        "s1.introduce()\n",
        "s2.introduce()\n"
      ]
    },
    {
      "cell_type": "markdown",
      "source": [
        "**Task 1:**  \n",
        "Create a class `Car` with attributes `brand` and `model`, and a method `details()` to print them. Create two different cars and display their details.\n"
      ],
      "metadata": {
        "id": "Hm12nWpFeDba"
      }
    },
    {
      "cell_type": "code",
      "source": [
        "class Car:\n",
        "  def __init__(self,brand,model):\n",
        "    self.brand = brand\n",
        "    self.model = model\n",
        "  def details(self):\n",
        "    print(f\"The car is of {self.brand} and model is {self.model}\")\n",
        "\n",
        "c1 = Car(\"BMW\",\"A\")\n",
        "c2 = Car(\"Maruti\",\"B\")\n",
        "\n",
        "c1.details()\n",
        "c2.details()\n",
        "\n"
      ],
      "metadata": {
        "colab": {
          "base_uri": "https://localhost:8080/"
        },
        "id": "g6Vc2eimeF0B",
        "outputId": "3f0e38c2-5101-47f3-eb97-3b3f0a32d532"
      },
      "execution_count": 5,
      "outputs": [
        {
          "output_type": "stream",
          "name": "stdout",
          "text": [
            "The car is of BMW and model is A\n",
            "The car is of Maruti and model is B\n"
          ]
        }
      ]
    },
    {
      "cell_type": "markdown",
      "source": [
        "**2. Constructors (`__init__`)**\n",
        "\n",
        "- The **constructor** method (`__init__`) is automatically called when an object is created.  \n",
        "- It is used to initialize (set) object attributes.  \n",
        "\n",
        "**Example:**\n"
      ],
      "metadata": {
        "id": "nUTgYlOteFLh"
      }
    },
    {
      "cell_type": "code",
      "source": [
        "class Person:\n",
        "    def __init__(self, name, city):\n",
        "        self.name = name\n",
        "        self.city = city\n",
        "\n",
        "    def greet(self):\n",
        "        print(f\"Hello, I am {self.name} from {self.city}.\")\n",
        "\n",
        "p1 = Person(\"John\", \"New York\")\n",
        "p1.greet()\n"
      ],
      "metadata": {
        "colab": {
          "base_uri": "https://localhost:8080/"
        },
        "id": "FPr_0u11eHRq",
        "outputId": "9ae116d1-52bf-4a6b-e458-3206a72974eb"
      },
      "execution_count": 6,
      "outputs": [
        {
          "output_type": "stream",
          "name": "stdout",
          "text": [
            "Hello, I am John from New York.\n"
          ]
        }
      ]
    },
    {
      "cell_type": "markdown",
      "source": [
        "**Task 2:**  \n",
        "Create a class `Book` with `title` and `author` attributes. The constructor should initialize them, and a method `info()` should display the book details.\n"
      ],
      "metadata": {
        "id": "6J8-s21leJWy"
      }
    },
    {
      "cell_type": "code",
      "source": [
        "class Book:\n",
        "  def __init__(self,title,author):\n",
        "    self.title = title\n",
        "    self.author = author\n",
        "  def info(self):\n",
        "    print(f\"The book's title is {self.title} and the author name is {self.author}\")\n",
        "b1 = Book(\"War and Peace\",\"Leo Tolstoy\")\n",
        "b2 = Book (\"A Man Called Ove\",\" Fredick Backman\")\n",
        "\n",
        "b1.info()\n",
        "b2.info()"
      ],
      "metadata": {
        "colab": {
          "base_uri": "https://localhost:8080/"
        },
        "id": "Vti7SwTJeJFL",
        "outputId": "02b31f15-dc25-4734-940a-d885a565035c"
      },
      "execution_count": 9,
      "outputs": [
        {
          "output_type": "stream",
          "name": "stdout",
          "text": [
            "The book's title is War and Peace and the author name is Leo Tolstoy\n",
            "The book's title is A Man Called Ove and the author name is  Fredick Backman\n"
          ]
        }
      ]
    },
    {
      "cell_type": "markdown",
      "source": [
        "**3. Encapsulation**\n",
        "\n",
        "- **Encapsulation** is about hiding data (like a capsule hides medicine).  \n",
        "- Attributes can be:  \n",
        "  - **Public** → accessible everywhere.  \n",
        "  - **Private** → Private members are variables or methods that cannot be accessed directly from outside the class. They are used to restrict access and protect internal data.In Python, private members are defined with a double underscore prefix (e.g., self.__salary)..\n",
        "  - **Protected** → Protected members are variables or methods that are intended to be accessed only within the class and its subclasses. They are not strictly private but should be treated as internal.In Python, protected members are defined with a single underscore prefix (e.g., self._name).\n",
        "\n",
        "**Example:**\n"
      ],
      "metadata": {
        "id": "zfSoHTp6eKI7"
      }
    },
    {
      "cell_type": "code",
      "source": [
        "class BankAccount:\n",
        "    def __init__(self, balance):\n",
        "        self.__balance = balance  # private attribute\n",
        "\n",
        "    def deposit(self, amount):\n",
        "        self.__balance += amount\n",
        "\n",
        "    def get_balance(self):\n",
        "        return self.__balance\n",
        "\n",
        "acc = BankAccount(1000)\n",
        "acc.deposit(500)\n",
        "print(\"Balance:\", acc.get_balance())\n"
      ],
      "metadata": {
        "colab": {
          "base_uri": "https://localhost:8080/"
        },
        "id": "5fCBx5wjeMlx",
        "outputId": "6ebbb5e1-c8c0-4a0e-8ab9-cea43e8d932e"
      },
      "execution_count": 10,
      "outputs": [
        {
          "output_type": "stream",
          "name": "stdout",
          "text": [
            "Balance: 1500\n"
          ]
        }
      ]
    },
    {
      "cell_type": "markdown",
      "source": [
        "**Task 3:**  \n",
        "Create a class `Wallet` with a private attribute `__money`. Add methods `add_money(amount)` and `show_money()`. Try to directly access `__money` and see what happens.\n"
      ],
      "metadata": {
        "id": "SOv2FyYteOFS"
      }
    },
    {
      "cell_type": "code",
      "source": [
        "class Wallet:\n",
        "  def __init__(self,money):\n",
        "    self.__money = money\n",
        "  def add_money(self,amount):\n",
        "    self.__money += amount\n",
        "  def show_money(self):\n",
        "    return self.__money\n",
        "\n",
        "acc = Wallet(1000)\n",
        "acc.add_money(500)\n",
        "print(\"Balance:\", acc.show_money())\n",
        "\n",
        "try:\n",
        "    print(acc.__money)\n",
        "except AttributeError as e:\n",
        "    print(\"Error:\", e)"
      ],
      "metadata": {
        "colab": {
          "base_uri": "https://localhost:8080/"
        },
        "id": "lWXzwitJejl5",
        "outputId": "dc5a40b3-35c8-405e-dd43-32f9c4e49c85"
      },
      "execution_count": 12,
      "outputs": [
        {
          "output_type": "stream",
          "name": "stdout",
          "text": [
            "Balance: 1500\n",
            "Error: 'Wallet' object has no attribute '__money'\n"
          ]
        }
      ]
    },
    {
      "cell_type": "markdown",
      "source": [
        "**4. Inheritance**\n",
        "\n",
        "- **Inheritance** allows one class to use properties of another class.  \n",
        "- A **child class** can reuse and extend a **parent class**.  \n",
        "\n",
        "**Example:**\n"
      ],
      "metadata": {
        "id": "m2jtF8tPePmp"
      }
    },
    {
      "cell_type": "code",
      "source": [
        "class Animal:\n",
        "    def speak(self):\n",
        "        print(\"This animal makes a sound.\")\n",
        "\n",
        "class Dog(Animal):  # Dog inherits from Animal\n",
        "    def speak(self):\n",
        "        print(\"Woof!\")\n",
        "\n",
        "d = Dog()\n",
        "d.speak()\n",
        "f = Animal ()\n",
        "f.speak()\n"
      ],
      "metadata": {
        "colab": {
          "base_uri": "https://localhost:8080/"
        },
        "id": "fRZ-2vt7eRBB",
        "outputId": "4a284051-0550-4d7d-83e6-00f2c05c79e7"
      },
      "execution_count": 15,
      "outputs": [
        {
          "output_type": "stream",
          "name": "stdout",
          "text": [
            "Woof!\n",
            "This animal makes a sound.\n"
          ]
        }
      ]
    },
    {
      "cell_type": "markdown",
      "source": [
        "**Task 4:**  \n",
        "Create a base class `Vehicle` with a method `start()`. Create a subclass `Bike` that inherits `Vehicle` and overrides `start()` to print `\"Bike started\"`.\n"
      ],
      "metadata": {
        "id": "9cMGQCzKeS1y"
      }
    },
    {
      "cell_type": "code",
      "source": [
        "class Vehicle:\n",
        "  def start(self):\n",
        "    print(\"Bike not started\")\n",
        "class Bike (Vehicle):\n",
        "  def start(self):\n",
        "    print(\"Bike started\")\n",
        "\n",
        "b = Bike()\n",
        "b.start()\n",
        ""
      ],
      "metadata": {
        "colab": {
          "base_uri": "https://localhost:8080/"
        },
        "id": "47wYHdcMeVmD",
        "outputId": "33662824-1779-40c0-b52f-23fc2c3b29bd"
      },
      "execution_count": 16,
      "outputs": [
        {
          "output_type": "stream",
          "name": "stdout",
          "text": [
            "Bike started\n"
          ]
        }
      ]
    },
    {
      "cell_type": "markdown",
      "source": [
        "**5. Polymorphism**\n",
        "\n",
        "- **Polymorphism** means \"many forms\".  \n",
        "- Same method name, but different behaviors depending on the class.  \n",
        "\n",
        "**Example:**\n"
      ],
      "metadata": {
        "id": "h2Yq1kH0eWTi"
      }
    },
    {
      "cell_type": "code",
      "source": [
        "class Bird:\n",
        "    def sound(self):\n",
        "        print(\"Chirp\")\n",
        "\n",
        "class Cat:\n",
        "    def sound(self):\n",
        "        print(\"Meow\")\n",
        "\n",
        "for animal in (Bird(), Cat()):\n",
        "    animal.sound()\n"
      ],
      "metadata": {
        "colab": {
          "base_uri": "https://localhost:8080/"
        },
        "id": "Xvr__pwWeXUx",
        "outputId": "32906c16-ebea-4f6e-a444-a36e848c8bed"
      },
      "execution_count": 17,
      "outputs": [
        {
          "output_type": "stream",
          "name": "stdout",
          "text": [
            "Chirp\n",
            "Meow\n"
          ]
        }
      ]
    },
    {
      "cell_type": "markdown",
      "source": [
        "**Task 5:**  \n",
        "Create two classes `Rectangle` and `Circle`. Both should have an `area()` method but calculate differently. Test polymorphism by calling `area()` on both.\n"
      ],
      "metadata": {
        "id": "wNGe94hXeXAR"
      }
    },
    {
      "cell_type": "code",
      "source": [
        "class Rectangle:\n",
        "  def area(self):\n",
        "    length = int(input(\"Enter the length\"))\n",
        "    width = int(input(\"Enter the width\"))\n",
        "    result = length * width\n",
        "    print(f\"Area of Rectangle = {result}\")\n",
        "class Circle:\n",
        "  def area(self):\n",
        "    r = int(input(\"Enter the Radius\"))\n",
        "    result = 2*3.14159*r\n",
        "    print(f\"Area of Circle = {result}\")\n",
        "\n",
        "shapes = [Rectangle(), Circle()]\n",
        "\n",
        "for shape in shapes:\n",
        "    shape.area()\n",
        "\n",
        "\n",
        "\n",
        "\n",
        "\n",
        "\n",
        "\n",
        "\n"
      ],
      "metadata": {
        "colab": {
          "base_uri": "https://localhost:8080/"
        },
        "id": "RJ6lKnIxeafq",
        "outputId": "499f19a3-0c42-4c91-aa7d-3523b4397a0f"
      },
      "execution_count": 22,
      "outputs": [
        {
          "output_type": "stream",
          "name": "stdout",
          "text": [
            "Enter the length3\n",
            "Enter the width4\n",
            "Area of Rectangle = 12\n",
            "Enter the Radius6\n",
            "Area of Circle = 37.699079999999995\n"
          ]
        }
      ]
    },
    {
      "cell_type": "markdown",
      "source": [
        "**6. Abstraction**\n",
        "\n",
        "- **Abstraction** means showing only essential details and hiding the background.  \n",
        "- Done in Python using the `abc` module (Abstract Base Classes).  \n",
        "\n",
        "**Example:**\n"
      ],
      "metadata": {
        "id": "nlEtK7tbeay5"
      }
    },
    {
      "cell_type": "code",
      "source": [
        "from abc import ABC, abstractmethod\n",
        "\n",
        "class Shape(ABC):\n",
        "    @abstractmethod\n",
        "    def area(self):\n",
        "        pass\n",
        "\n",
        "class Square(Shape):\n",
        "    def __init__(self, side):\n",
        "        self.side = side\n",
        "\n",
        "    def area(self):\n",
        "        return self.side * self.side\n",
        "\n",
        "sq = Square(4)\n",
        "print(\"Area:\", sq.area())\n"
      ],
      "metadata": {
        "colab": {
          "base_uri": "https://localhost:8080/"
        },
        "id": "TN8tDf5geddB",
        "outputId": "b7c0633f-897d-4da6-f956-d56cab7f7175"
      },
      "execution_count": 23,
      "outputs": [
        {
          "output_type": "stream",
          "name": "stdout",
          "text": [
            "Area: 16\n"
          ]
        }
      ]
    },
    {
      "cell_type": "markdown",
      "source": [
        "**Task 6:**  \n",
        "Create an abstract class `Payment` with an abstract method `pay()`. Create two subclasses `CreditCard` and `PayPal` that implement `pay()` differently.\n"
      ],
      "metadata": {
        "id": "8POixUsXef7p"
      }
    },
    {
      "cell_type": "code",
      "source": [
        "from abc import ABC, abstractmethod\n",
        "\n",
        "class Payment(ABC):\n",
        "    @abstractmethod\n",
        "    def pay(self, amount):\n",
        "        pass\n",
        "\n",
        "class CreditCard(Payment):\n",
        "    def __init__(self, card_number):\n",
        "        self.card_number = card_number\n",
        "\n",
        "    def pay(self, amount):\n",
        "        print(f\"Paid {amount} using Credit Card ending with {self.card_number[-4:]}\")\n",
        "\n",
        "class PayPal(Payment):\n",
        "    def __init__(self, email):\n",
        "        self.email = email\n",
        "\n",
        "    def pay(self, amount):\n",
        "        print(f\"Paid {amount} using PayPal account {self.email}\")\n",
        "\n",
        "# Testing\n",
        "c = CreditCard(\"1234567812345678\")\n",
        "p = PayPal(\"user@example.com\")\n",
        "\n",
        "c.pay(1000)\n",
        "p.pay(500)\n"
      ],
      "metadata": {
        "colab": {
          "base_uri": "https://localhost:8080/"
        },
        "id": "Y4c2wllKeiNR",
        "outputId": "2d2bfc2b-0ec4-40f3-f22b-0d960359cc42"
      },
      "execution_count": 28,
      "outputs": [
        {
          "output_type": "stream",
          "name": "stdout",
          "text": [
            "Paid 1000 using Credit Card ending with 5678\n",
            "Paid 500 using PayPal account user@example.com\n"
          ]
        }
      ]
    }
  ]
}